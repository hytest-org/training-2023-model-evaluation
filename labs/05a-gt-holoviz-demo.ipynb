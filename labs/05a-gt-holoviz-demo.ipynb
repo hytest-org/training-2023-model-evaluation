{
 "cells": [
  {
   "cell_type": "markdown",
   "id": "c23cabac-5a21-48d0-b7b1-e36671f0a718",
   "metadata": {},
   "source": [
    "# Gene's Super-Simple Visualization Examples\n"
   ]
  },
  {
   "cell_type": "markdown",
   "id": "b7799528-70eb-43ef-92bf-dc76b731ed79",
   "metadata": {
    "tags": []
   },
   "source": [
    "## Step 0: Load Required Python Libraries"
   ]
  },
  {
   "cell_type": "code",
   "execution_count": 147,
   "id": "df078209-e4e8-4429-82b4-8ac491a36686",
   "metadata": {},
   "outputs": [],
   "source": [
    "try:\n",
    "    import os\n",
    "    import pandas as pd\n",
    "    \n",
    "    os.environ['USE_PYGEOS'] = '0'\n",
    "    import geopandas\n",
    "\n",
    "    import holoviews as hv\n",
    "    import hvplot.pandas\n",
    "    import panel as pn\n",
    "    from geoviews import tile_sources as gvts\n",
    "except ImportError:\n",
    "    print(\"A required library could not be found. \")\n",
    "    raise"
   ]
  },
  {
   "cell_type": "markdown",
   "id": "ecc5f3bc-04be-4779-bc05-bc3bccb48643",
   "metadata": {},
   "source": [
    "## Example 1: Simple Curve\n",
    "\n",
    "The goal of this plot will be a guided-discovery of the effect of \n",
    "$\\Delta x$ on estimates of the first derivative of a curve. \n",
    "\n",
    "## Define an arbitrary function\n",
    "We're going to use this as our $f(t)$:\n",
    "\n",
    "$$\n",
    "f(t) = \\cos{t \\over 8} \\cdot \\cos{3t \\over 2}\n",
    "$$\n",
    "\n",
    "For $-5\\pi \\le t \\le 5 \\pi$ . \n"
   ]
  },
  {
   "cell_type": "code",
   "execution_count": 157,
   "id": "4ce21930-77a7-4586-bea1-e1364fbc63f4",
   "metadata": {},
   "outputs": [],
   "source": [
    "## Will do a 'numerical' approximation of the derivative of a function\n",
    "import numpy as np\n",
    "\n",
    "n = 150  # number of sample points in the domain\n",
    "L = np.pi*10   # domain / input range over which to plot\n",
    "dt = L/n # space between points\n",
    "\n",
    "t = np.arange(-L/2, L/2, dx) \n",
    "f_t = np.cos(t/8) * np.cos(t/1.5) \n"
   ]
  },
  {
   "cell_type": "markdown",
   "id": "d73b927f-5cd5-4b44-b52e-7fc22f98bda9",
   "metadata": {},
   "source": [
    "Examine t and f(t). "
   ]
  },
  {
   "cell_type": "code",
   "execution_count": 158,
   "id": "cddb0d49-ab11-4b27-81c8-9c8fee8088c6",
   "metadata": {},
   "outputs": [
    {
     "data": {
      "text/plain": [
       "array([-15.70796327, -15.50796327, -15.30796327, -15.10796327])"
      ]
     },
     "execution_count": 158,
     "metadata": {},
     "output_type": "execute_result"
    }
   ],
   "source": [
    "t[0:4]"
   ]
  },
  {
   "cell_type": "code",
   "execution_count": 159,
   "id": "6f9179ba-45e1-4a56-81e3-c0f692214eaf",
   "metadata": {},
   "outputs": [
    {
     "data": {
      "text/plain": [
       "array([0.19134172, 0.21952442, 0.2387631 , 0.24921077])"
      ]
     },
     "execution_count": 159,
     "metadata": {},
     "output_type": "execute_result"
    }
   ],
   "source": [
    "f_t[0:4]"
   ]
  },
  {
   "cell_type": "markdown",
   "id": "d3bbccb0-714a-463d-a14d-2021264b6ac6",
   "metadata": {},
   "source": [
    "`zip` them together."
   ]
  },
  {
   "cell_type": "code",
   "execution_count": 160,
   "id": "e367e57f-8bcb-4406-8c13-30a5a503d3fa",
   "metadata": {},
   "outputs": [
    {
     "data": {
      "text/plain": [
       "[(-15.707963267948966, 0.19134171618254478),\n",
       " (-15.507963267948966, 0.2195244165473699),\n",
       " (-15.307963267948967, 0.23876309933481074),\n",
       " (-15.107963267948968, 0.24921076723743757)]"
      ]
     },
     "execution_count": 160,
     "metadata": {},
     "output_type": "execute_result"
    }
   ],
   "source": [
    "list( zip(t, f_t)  )[0:4]\n"
   ]
  },
  {
   "cell_type": "code",
   "execution_count": 164,
   "id": "d90ab88c-1442-4dee-a93f-1bb968920dd6",
   "metadata": {},
   "outputs": [
    {
     "data": {},
     "metadata": {},
     "output_type": "display_data"
    },
    {
     "data": {
      "application/vnd.holoviews_exec.v0+json": "",
      "text/html": [
       "<div id='29269'>\n",
       "  <div class=\"bk-root\" id=\"67319a0d-9c1d-4151-8572-0fbc762fe720\" data-root-id=\"29269\"></div>\n",
       "</div>\n",
       "<script type=\"application/javascript\">(function(root) {\n",
       "  function embed_document(root) {\n",
       "    var docs_json = {\"d6a09fac-8b53-4682-b815-458205e14c02\":{\"defs\":[{\"extends\":null,\"module\":null,\"name\":\"ReactiveHTML1\",\"overrides\":[],\"properties\":[]},{\"extends\":null,\"module\":null,\"name\":\"FlexBox1\",\"overrides\":[],\"properties\":[{\"default\":\"flex-start\",\"kind\":null,\"name\":\"align_content\"},{\"default\":\"flex-start\",\"kind\":null,\"name\":\"align_items\"},{\"default\":\"row\",\"kind\":null,\"name\":\"flex_direction\"},{\"default\":\"wrap\",\"kind\":null,\"name\":\"flex_wrap\"},{\"default\":\"flex-start\",\"kind\":null,\"name\":\"justify_content\"}]},{\"extends\":null,\"module\":null,\"name\":\"GridStack1\",\"overrides\":[],\"properties\":[{\"default\":\"warn\",\"kind\":null,\"name\":\"mode\"},{\"default\":null,\"kind\":null,\"name\":\"ncols\"},{\"default\":null,\"kind\":null,\"name\":\"nrows\"},{\"default\":true,\"kind\":null,\"name\":\"allow_resize\"},{\"default\":true,\"kind\":null,\"name\":\"allow_drag\"},{\"default\":[],\"kind\":null,\"name\":\"state\"}]},{\"extends\":null,\"module\":null,\"name\":\"click1\",\"overrides\":[],\"properties\":[{\"default\":\"\",\"kind\":null,\"name\":\"terminal_output\"},{\"default\":\"\",\"kind\":null,\"name\":\"debug_name\"},{\"default\":0,\"kind\":null,\"name\":\"clears\"}]},{\"extends\":null,\"module\":null,\"name\":\"NotificationAreaBase1\",\"overrides\":[],\"properties\":[{\"default\":\"bottom-right\",\"kind\":null,\"name\":\"position\"},{\"default\":0,\"kind\":null,\"name\":\"_clear\"}]},{\"extends\":null,\"module\":null,\"name\":\"NotificationArea1\",\"overrides\":[],\"properties\":[{\"default\":[],\"kind\":null,\"name\":\"notifications\"},{\"default\":\"bottom-right\",\"kind\":null,\"name\":\"position\"},{\"default\":0,\"kind\":null,\"name\":\"_clear\"},{\"default\":[{\"background\":\"#ffc107\",\"icon\":{\"className\":\"fas fa-exclamation-triangle\",\"color\":\"white\",\"tagName\":\"i\"},\"type\":\"warning\"},{\"background\":\"#007bff\",\"icon\":{\"className\":\"fas fa-info-circle\",\"color\":\"white\",\"tagName\":\"i\"},\"type\":\"info\"}],\"kind\":null,\"name\":\"types\"}]},{\"extends\":null,\"module\":null,\"name\":\"Notification\",\"overrides\":[],\"properties\":[{\"default\":null,\"kind\":null,\"name\":\"background\"},{\"default\":3000,\"kind\":null,\"name\":\"duration\"},{\"default\":null,\"kind\":null,\"name\":\"icon\"},{\"default\":\"\",\"kind\":null,\"name\":\"message\"},{\"default\":null,\"kind\":null,\"name\":\"notification_type\"},{\"default\":false,\"kind\":null,\"name\":\"_destroyed\"}]},{\"extends\":null,\"module\":null,\"name\":\"TemplateActions1\",\"overrides\":[],\"properties\":[{\"default\":0,\"kind\":null,\"name\":\"open_modal\"},{\"default\":0,\"kind\":null,\"name\":\"close_modal\"}]},{\"extends\":null,\"module\":null,\"name\":\"MaterialTemplateActions1\",\"overrides\":[],\"properties\":[{\"default\":0,\"kind\":null,\"name\":\"open_modal\"},{\"default\":0,\"kind\":null,\"name\":\"close_modal\"}]}],\"roots\":{\"references\":[{\"attributes\":{},\"id\":\"29279\",\"type\":\"LinearScale\"},{\"attributes\":{\"coordinates\":null,\"group\":null,\"text\":\"f(t)\",\"text_color\":\"black\",\"text_font_size\":\"12pt\"},\"id\":\"29273\",\"type\":\"Title\"},{\"attributes\":{\"active_drag\":{\"id\":\"29290\"},\"active_scroll\":{\"id\":\"29291\"},\"tools\":[{\"id\":\"29289\"},{\"id\":\"29290\"},{\"id\":\"29291\"},{\"id\":\"29292\"},{\"id\":\"29293\"}]},\"id\":\"29295\",\"type\":\"Toolbar\"},{\"attributes\":{\"end\":15.692036732050923,\"reset_end\":15.692036732050923,\"reset_start\":-15.707963267948966,\"start\":-15.707963267948966,\"tags\":[[[\"x\",\"x\",null]]]},\"id\":\"29270\",\"type\":\"Range1d\"},{\"attributes\":{\"below\":[{\"id\":\"29281\"}],\"center\":[{\"id\":\"29284\"},{\"id\":\"29288\"}],\"height\":300,\"left\":[{\"id\":\"29285\"}],\"margin\":[5,5,5,5],\"min_border_bottom\":10,\"min_border_left\":10,\"min_border_right\":10,\"min_border_top\":10,\"renderers\":[{\"id\":\"29307\"}],\"sizing_mode\":\"fixed\",\"title\":{\"id\":\"29273\"},\"toolbar\":{\"id\":\"29295\"},\"x_range\":{\"id\":\"29270\"},\"x_scale\":{\"id\":\"29277\"},\"y_range\":{\"id\":\"29271\"},\"y_scale\":{\"id\":\"29279\"}},\"id\":\"29272\",\"subtype\":\"Figure\",\"type\":\"Plot\"},{\"attributes\":{},\"id\":\"29327\",\"type\":\"UnionRenderers\"},{\"attributes\":{\"line_alpha\":0.1,\"line_width\":2,\"x\":{\"field\":\"x\"},\"y\":{\"field\":\"y\"}},\"id\":\"29305\",\"type\":\"Line\"},{\"attributes\":{},\"id\":\"29312\",\"type\":\"AllLabels\"},{\"attributes\":{},\"id\":\"29311\",\"type\":\"BasicTickFormatter\"},{\"attributes\":{},\"id\":\"29286\",\"type\":\"BasicTicker\"},{\"attributes\":{},\"id\":\"29315\",\"type\":\"AllLabels\"},{\"attributes\":{\"line_width\":2,\"x\":{\"field\":\"x\"},\"y\":{\"field\":\"y\"}},\"id\":\"29304\",\"type\":\"Line\"},{\"attributes\":{},\"id\":\"29289\",\"type\":\"SaveTool\"},{\"attributes\":{\"source\":{\"id\":\"29301\"}},\"id\":\"29308\",\"type\":\"CDSView\"},{\"attributes\":{\"axis_label\":\"y\",\"coordinates\":null,\"formatter\":{\"id\":\"29314\"},\"group\":null,\"major_label_policy\":{\"id\":\"29315\"},\"ticker\":{\"id\":\"29286\"}},\"id\":\"29285\",\"type\":\"LinearAxis\"},{\"attributes\":{\"axis\":{\"id\":\"29281\"},\"coordinates\":null,\"grid_line_color\":null,\"group\":null,\"ticker\":null},\"id\":\"29284\",\"type\":\"Grid\"},{\"attributes\":{},\"id\":\"29291\",\"type\":\"WheelZoomTool\"},{\"attributes\":{},\"id\":\"29282\",\"type\":\"BasicTicker\"},{\"attributes\":{\"data\":{\"x\":{\"__ndarray__\":\"XjhVKXpqL8D40e7CEwQvwJJriFytnS7ALAUi9kY3LsDGnruP4NAtwGA4VSl6ai3A+tHuwhMELcCUa4hcrZ0swC4FIvZGNyzAyJ67j+DQK8BiOFUpemorwPzR7sITBCvAlmuIXK2dKsAwBSL2RjcqwMqeu4/g0CnAZDhVKXpqKcD+0e7CEwQpwJhriFytnSjAMgUi9kY3KMDMnruP4NAnwGY4VSl6aifAANLuwhMEJ8Caa4hcrZ0mwDQFIvZGNybAzp67j+DQJcBoOFUpemolwALS7sITBCXAnGuIXK2dJMA2BSL2RjckwNCeu4/g0CPAajhVKXpqI8AE0u7CEwQjwJ5riFytnSLAOAUi9kY3IsDSnruP4NAhwGw4VSl6aiHABtLuwhMEIcCga4hcrZ0gwDoFIvZGNyDAqD13H8GhH8DccKpS9NQewBCk3YUnCB7ARNcQuVo7HcB4CkTsjW4cwKw9dx/BoRvA4HCqUvTUGsAUpN2FJwgawEjXELlaOxnAfApE7I1uGMCwPXcfwaEXwORwqlL01BbAGKTdhScIFsBM1xC5WjsVwIAKROyNbhTAtD13H8GhE8DocKpS9NQSwByk3YUnCBLAUNcQuVo7EcCECkTsjW4QwHB77j6CQw/A2OFUpeipDcBASLsLTxAMwKiuIXK1dgrAEBWI2BvdCMB4e+4+gkMHwODhVKXoqQXASEi7C08QBMCwriFytXYCwBgViNgb3QDAAPfcfQSH/r/Qw6lK0VP7v6CQdheeIPi/cF1D5Grt9L9AKhCxN7rxvyDuufsIDu2/wIdTlaKn5r9gIe0uPEHgvwB2DZGrtdO/AKUCEXuju78AjjAiuI+3P0DwWNW6sNI/AL0lood93z/gRHk3KiXmP0Cr352Qi+w/0Agjgvt48T8APFa1Lqz0PzBviehh3/c/YKK8G5US+z+Q1e9OyEX+P2CEEcF9vABA+B2rWhdWAkCQt0T0sO8DQChR3o1KiQVAwOp3J+QiB0BYhBHBfbwIQPAdq1oXVgpAiLdE9LDvC0AgUd6NSokNQLjqdyfkIg9AKMKI4D5eEED0jlWtCysRQMBbInrY9xFAjCjvRqXEEkBY9bsTcpETQCTCiOA+XhRA8I5VrQsrFUC8WyJ62PcVQIgo70alxBZAVPW7E3KRF0AgwojgPl4YQOyOVa0LKxlAuFsietj3GUCEKO9GpcQaQFD1uxNykRtAHMKI4D5eHEDojlWtCysdQLRbInrY9x1AgCjvRqXEHkBM9bsTcpEfQAxhRHAfLyBAcseq1oWVIEDYLRE97PsgQD6Ud6NSYiFApPrdCbnIIUAKYURwHy8iQHDHqtaFlSJA1i0RPez7IkA8lHejUmIjQKL63Qm5yCNACGFEcB8vJEBux6rWhZUkQNQtET3s+yRAOpR3o1JiJUCg+t0JucglQAZhRHAfLyZAbMeq1oWVJkDSLRE97PsmQDiUd6NSYidAnvrdCbnIJ0AEYURwHy8oQGrHqtaFlShA0C0RPez7KEA2lHejUmIpQJz63Qm5yClAAmFEcB8vKkBox6rWhZUqQM4tET3s+ypANJR3o1JiK0Ca+t0JucgrQABhRHAfLyxAZseq1oWVLEDMLRE97PssQDKUd6NSYi1AmPrdCbnILUD+YERwHy8uQGTHqtaFlS5Ayi0RPez7LkAwlHejUmIvQA==\",\"dtype\":\"float64\",\"order\":\"little\",\"shape\":[158]},\"y\":{\"__ndarray__\":\"X6mupuJ9yD+lSd9GYBnMP/M6kQvKj84/OkWMbyPmzz840/H43BTQPzAXVUGOb88/SNWTnInTzT9TU6BFhXfLP0MHeRErgsg/iqsXGbcdxT+vr3xWo3bBP57LGgeNdLs/YzCbut8qtD/l/ZXqJcyqP20QspFV1p0/i7oOgjkAhT+bsxx6hN1rv5toKl4Qw4a/qE/v8LVdib8uUi4SJHl8v+md3VCrV3U/3bsVBzpzmD++q4G2COCoP4YLHVa2IbQ/gp0R0q72vD/4fOq+wFPDPznZl65Accg/ZNsbXgOnzT8/qf5zvWLRP4LqeT/dzdM/aof6GnD81T8+8BnnwdbXP0gfTV6QRtk/OTB01Lg32j8Ni9v82ZjaPxlXHkjlW9o//om00Jt22T/XbF1N8+LXP9Uc2xhgn9U/dBbJCgKv0j9scd8yZTPOP5NaMQfn18U/QadGOvjauD8O3fMoO/OQP6ax1Zo4x7G/LPwz2mlgxL8jmgYpVw3Qv6gSanmm6NW/8c76E3Gg2780/cAOV4ngv0eY7O/nDuO/3NpPWctQ5b9cD+6t7z/nv2uxpN+zzui/ZGzSckLx6b8qBurb4p3qv72xGx0/zeq/AwYl0Jt66r/GujQaAaTpv2FcpmNTSui/14DtEFtx5r/ALufiuh/kv4deXxDVXuG/DH2CLD913L8DR/VJ0YLVv8Lp8NUxDsy/K4G0Y/GYuL/U611pR4+fP15/JAGrW8Q/28+/19BO0j9XAy4KSDLaP9/Wv6q/1+A/gce9ksJP5D/wqEU1CG/nP+6RvUQoJeo/Wt4T/dRj7D9MbOGOLR/uP2ZaFLICTu8/lul6vwvq7z+BXkkOC/DvPzpcWbjgX+8/hODqUos87j+dS4KXFozsP9eRbWZ4V+o/mQzW91yq5z8O2W1245LkP1KqQZ1MIeE/ithqjTrP2j+9cEpGbvLSP7oQLSGoqcU/LrvCXwcApT8eCijArwm2v0tQN6Rl08q/umlmeNbu1L+PPiDecu3bv4NvNXtBIuG/G/kcZojr47/uqK8EZkbmv2wCzcRBKei/eYnCqj+N6b/BQP2TXG7qv7Rs/zh5y+q/75gx1FOm6r8Ge9e+cAPqv9looL7y6ei/t91hImRj57+FFBUpcnvlv0af7ICcP+O/iHtB89q+4L/1hPQWdxLcv8CiF2P3Xta/UhyUlj2F0L+VrmAHFE7Fv7jelA8mlLO/NDTFTqI9hD+LasY+MUa3P8Ip9kFgIcU/vhiBMc2TzT+nbfNl3mvSP7/1YYe4adU/NbGThzu71z9uAq5W51zZP6LGwaXpT9o/pwRPdPOZ2j8iPphI8UTaP91bhUioXtk/U/yWFjv41z8QO23wmSXWP3Ia0g7i/NM/MInTrrCV0T+XxW3r3BDOPyxNRRkw28g/p5CBtxG6wz+npY3cMrW9PxqHAGr0y7Q/IAaS6nEBqj93Ol+V/T6aP7tKlB89eXo/3RM4u6eCeb/Os+UrofyIv2MXIdSGdoe/uIXz3odfcb8xH4V3BFyCP3dHAhw3H5w/ZDwpmHDIqT+mKMch7JqzP0/Mz04Y3bo/LnyOkqkqwT9hRVoOGdXEPwPGiqOBQMg/lyTluEpAyz8wiqjO/anNP6FERj6cVs8/k6gV0O8R0D86+pH/W/XPPzmOm8V7tc4/9UyGPE5WzD+Lu3mzItLIPw==\",\"dtype\":\"float64\",\"order\":\"little\",\"shape\":[158]}},\"selected\":{\"id\":\"29302\"},\"selection_policy\":{\"id\":\"29327\"}},\"id\":\"29301\",\"type\":\"ColumnDataSource\"},{\"attributes\":{\"overlay\":{\"id\":\"29294\"}},\"id\":\"29292\",\"type\":\"BoxZoomTool\"},{\"attributes\":{\"line_alpha\":0.2,\"line_width\":2,\"x\":{\"field\":\"x\"},\"y\":{\"field\":\"y\"}},\"id\":\"29306\",\"type\":\"Line\"},{\"attributes\":{},\"id\":\"29290\",\"type\":\"PanTool\"},{\"attributes\":{},\"id\":\"29302\",\"type\":\"Selection\"},{\"attributes\":{\"line_width\":2,\"x\":{\"field\":\"x\"},\"y\":{\"field\":\"y\"}},\"id\":\"29309\",\"type\":\"Line\"},{\"attributes\":{},\"id\":\"29277\",\"type\":\"LinearScale\"},{\"attributes\":{\"children\":[{\"id\":\"29272\"}],\"height\":300,\"margin\":[0,0,0,0],\"name\":\"Row20584\",\"sizing_mode\":\"fixed\",\"tags\":[\"embedded\"],\"width\":600},\"id\":\"29269\",\"type\":\"Row\"},{\"attributes\":{\"end\":1.1816128124037313,\"reset_end\":1.1816128124037313,\"reset_start\":-1.0211151746058067,\"start\":-1.0211151746058067,\"tags\":[[[\"y\",\"y\",null]]]},\"id\":\"29271\",\"type\":\"Range1d\"},{\"attributes\":{},\"id\":\"29293\",\"type\":\"ResetTool\"},{\"attributes\":{\"bottom_units\":\"screen\",\"coordinates\":null,\"fill_alpha\":0.5,\"fill_color\":\"lightgrey\",\"group\":null,\"left_units\":\"screen\",\"level\":\"overlay\",\"line_alpha\":1.0,\"line_color\":\"black\",\"line_dash\":[4,4],\"line_width\":2,\"right_units\":\"screen\",\"syncable\":false,\"top_units\":\"screen\"},\"id\":\"29294\",\"type\":\"BoxAnnotation\"},{\"attributes\":{\"coordinates\":null,\"data_source\":{\"id\":\"29301\"},\"glyph\":{\"id\":\"29304\"},\"group\":null,\"hover_glyph\":null,\"muted_glyph\":{\"id\":\"29306\"},\"nonselection_glyph\":{\"id\":\"29305\"},\"selection_glyph\":{\"id\":\"29309\"},\"view\":{\"id\":\"29308\"}},\"id\":\"29307\",\"type\":\"GlyphRenderer\"},{\"attributes\":{\"axis_label\":\"x\",\"coordinates\":null,\"formatter\":{\"id\":\"29311\"},\"group\":null,\"major_label_policy\":{\"id\":\"29312\"},\"ticker\":{\"id\":\"29282\"}},\"id\":\"29281\",\"type\":\"LinearAxis\"},{\"attributes\":{\"axis\":{\"id\":\"29285\"},\"coordinates\":null,\"dimension\":1,\"grid_line_color\":null,\"group\":null,\"ticker\":null},\"id\":\"29288\",\"type\":\"Grid\"},{\"attributes\":{},\"id\":\"29314\",\"type\":\"BasicTickFormatter\"}],\"root_ids\":[\"29269\"]},\"title\":\"Bokeh Application\",\"version\":\"2.4.3\"}};\n",
       "    var render_items = [{\"docid\":\"d6a09fac-8b53-4682-b815-458205e14c02\",\"root_ids\":[\"29269\"],\"roots\":{\"29269\":\"67319a0d-9c1d-4151-8572-0fbc762fe720\"}}];\n",
       "    root.Bokeh.embed.embed_items_notebook(docs_json, render_items);\n",
       "    for (const render_item of render_items) {\n",
       "      for (const root_id of render_item.root_ids) {\n",
       "\tconst id_el = document.getElementById(root_id)\n",
       "\tif (id_el.children.length && (id_el.children[0].className === 'bk-root')) {\n",
       "\t  const root_el = id_el.children[0]\n",
       "\t  root_el.id = root_el.id + '-rendered'\n",
       "\t}\n",
       "      }\n",
       "    }\n",
       "  }\n",
       "  if (root.Bokeh !== undefined && root.Bokeh.Panel !== undefined) {\n",
       "    embed_document(root);\n",
       "  } else {\n",
       "    var attempts = 0;\n",
       "    var timer = setInterval(function(root) {\n",
       "      if (root.Bokeh !== undefined && root.Bokeh.Panel !== undefined) {\n",
       "        clearInterval(timer);\n",
       "        embed_document(root);\n",
       "      } else if (document.readyState == \"complete\") {\n",
       "        attempts++;\n",
       "        if (attempts > 200) {\n",
       "          clearInterval(timer);\n",
       "          console.log(\"Bokeh: ERROR: Unable to run BokehJS code because BokehJS library is missing\");\n",
       "        }\n",
       "      }\n",
       "    }, 25, root)\n",
       "  }\n",
       "})(window);</script>"
      ],
      "text/plain": [
       ":Curve   [x]   (y)"
      ]
     },
     "execution_count": 164,
     "metadata": {
      "application/vnd.holoviews_exec.v0+json": {
       "id": "29269"
      }
     },
     "output_type": "execute_result"
    }
   ],
   "source": [
    "hv.Curve( \n",
    "        zip(t, f_t),\n",
    "        label=\"f(t)\"\n",
    "    ).opts(height=300, width=600, color='black') \n",
    "# hv.Bars(\n",
    "#         zip(t, f_t)\n",
    "#     ).opts(height=300, width=600, xrotation=90, bar_width=1.005, color='yellow') "
   ]
  },
  {
   "cell_type": "code",
   "execution_count": 165,
   "id": "8e1f5be6-cc65-4594-a5c8-162f9d139b98",
   "metadata": {},
   "outputs": [],
   "source": [
    "true_df = (np.cos(t/8) * -(np.sin(t/1.5)/1.5)) + (np.cos(t/1.5) * -np.sin(t/8)/8) \n"
   ]
  },
  {
   "cell_type": "code",
   "execution_count": 166,
   "id": "8cd15759-a0ef-425c-8089-b1319ef8b4f4",
   "metadata": {},
   "outputs": [
    {
     "data": {},
     "metadata": {},
     "output_type": "display_data"
    },
    {
     "data": {
      "application/vnd.holoviews_exec.v0+json": "",
      "text/html": [
       "<div id='29381'>\n",
       "  <div class=\"bk-root\" id=\"247fcd83-4362-442e-ac24-2eaf4f2e8b4e\" data-root-id=\"29381\"></div>\n",
       "</div>\n",
       "<script type=\"application/javascript\">(function(root) {\n",
       "  function embed_document(root) {\n",
       "    var docs_json = {\"b02f3cad-bbad-44d4-bc59-31bbef2842c5\":{\"defs\":[{\"extends\":null,\"module\":null,\"name\":\"ReactiveHTML1\",\"overrides\":[],\"properties\":[]},{\"extends\":null,\"module\":null,\"name\":\"FlexBox1\",\"overrides\":[],\"properties\":[{\"default\":\"flex-start\",\"kind\":null,\"name\":\"align_content\"},{\"default\":\"flex-start\",\"kind\":null,\"name\":\"align_items\"},{\"default\":\"row\",\"kind\":null,\"name\":\"flex_direction\"},{\"default\":\"wrap\",\"kind\":null,\"name\":\"flex_wrap\"},{\"default\":\"flex-start\",\"kind\":null,\"name\":\"justify_content\"}]},{\"extends\":null,\"module\":null,\"name\":\"GridStack1\",\"overrides\":[],\"properties\":[{\"default\":\"warn\",\"kind\":null,\"name\":\"mode\"},{\"default\":null,\"kind\":null,\"name\":\"ncols\"},{\"default\":null,\"kind\":null,\"name\":\"nrows\"},{\"default\":true,\"kind\":null,\"name\":\"allow_resize\"},{\"default\":true,\"kind\":null,\"name\":\"allow_drag\"},{\"default\":[],\"kind\":null,\"name\":\"state\"}]},{\"extends\":null,\"module\":null,\"name\":\"click1\",\"overrides\":[],\"properties\":[{\"default\":\"\",\"kind\":null,\"name\":\"terminal_output\"},{\"default\":\"\",\"kind\":null,\"name\":\"debug_name\"},{\"default\":0,\"kind\":null,\"name\":\"clears\"}]},{\"extends\":null,\"module\":null,\"name\":\"NotificationAreaBase1\",\"overrides\":[],\"properties\":[{\"default\":\"bottom-right\",\"kind\":null,\"name\":\"position\"},{\"default\":0,\"kind\":null,\"name\":\"_clear\"}]},{\"extends\":null,\"module\":null,\"name\":\"NotificationArea1\",\"overrides\":[],\"properties\":[{\"default\":[],\"kind\":null,\"name\":\"notifications\"},{\"default\":\"bottom-right\",\"kind\":null,\"name\":\"position\"},{\"default\":0,\"kind\":null,\"name\":\"_clear\"},{\"default\":[{\"background\":\"#ffc107\",\"icon\":{\"className\":\"fas fa-exclamation-triangle\",\"color\":\"white\",\"tagName\":\"i\"},\"type\":\"warning\"},{\"background\":\"#007bff\",\"icon\":{\"className\":\"fas fa-info-circle\",\"color\":\"white\",\"tagName\":\"i\"},\"type\":\"info\"}],\"kind\":null,\"name\":\"types\"}]},{\"extends\":null,\"module\":null,\"name\":\"Notification\",\"overrides\":[],\"properties\":[{\"default\":null,\"kind\":null,\"name\":\"background\"},{\"default\":3000,\"kind\":null,\"name\":\"duration\"},{\"default\":null,\"kind\":null,\"name\":\"icon\"},{\"default\":\"\",\"kind\":null,\"name\":\"message\"},{\"default\":null,\"kind\":null,\"name\":\"notification_type\"},{\"default\":false,\"kind\":null,\"name\":\"_destroyed\"}]},{\"extends\":null,\"module\":null,\"name\":\"TemplateActions1\",\"overrides\":[],\"properties\":[{\"default\":0,\"kind\":null,\"name\":\"open_modal\"},{\"default\":0,\"kind\":null,\"name\":\"close_modal\"}]},{\"extends\":null,\"module\":null,\"name\":\"MaterialTemplateActions1\",\"overrides\":[],\"properties\":[{\"default\":0,\"kind\":null,\"name\":\"open_modal\"},{\"default\":0,\"kind\":null,\"name\":\"close_modal\"}]}],\"roots\":{\"references\":[{\"attributes\":{\"line_alpha\":0.1,\"line_width\":2,\"x\":{\"field\":\"x\"},\"y\":{\"field\":\"y\"}},\"id\":\"29429\",\"type\":\"Line\"},{\"attributes\":{\"bottom_units\":\"screen\",\"coordinates\":null,\"fill_alpha\":0.5,\"fill_color\":\"lightgrey\",\"group\":null,\"left_units\":\"screen\",\"level\":\"overlay\",\"line_alpha\":1.0,\"line_color\":\"black\",\"line_dash\":[4,4],\"line_width\":2,\"right_units\":\"screen\",\"syncable\":false,\"top_units\":\"screen\"},\"id\":\"29410\",\"type\":\"BoxAnnotation\"},{\"attributes\":{\"coordinates\":null,\"data_source\":{\"id\":\"29425\"},\"glyph\":{\"id\":\"29428\"},\"group\":null,\"hover_glyph\":null,\"muted_glyph\":{\"id\":\"29430\"},\"nonselection_glyph\":{\"id\":\"29429\"},\"selection_glyph\":{\"id\":\"29445\"},\"view\":{\"id\":\"29432\"}},\"id\":\"29431\",\"type\":\"GlyphRenderer\"},{\"attributes\":{\"line_color\":\"gray\",\"line_dash\":[4,4],\"line_width\":2,\"x\":{\"field\":\"x\"},\"y\":{\"field\":\"y\"}},\"id\":\"29449\",\"type\":\"Line\"},{\"attributes\":{},\"id\":\"29447\",\"type\":\"Selection\"},{\"attributes\":{\"line_alpha\":0.2,\"line_width\":2,\"x\":{\"field\":\"x\"},\"y\":{\"field\":\"y\"}},\"id\":\"29430\",\"type\":\"Line\"},{\"attributes\":{\"line_width\":2,\"x\":{\"field\":\"x\"},\"y\":{\"field\":\"y\"}},\"id\":\"29445\",\"type\":\"Line\"},{\"attributes\":{},\"id\":\"29395\",\"type\":\"LinearScale\"},{\"attributes\":{\"source\":{\"id\":\"29425\"}},\"id\":\"29432\",\"type\":\"CDSView\"},{\"attributes\":{\"coordinates\":null,\"data_source\":{\"id\":\"29446\"},\"glyph\":{\"id\":\"29449\"},\"group\":null,\"hover_glyph\":null,\"muted_glyph\":{\"id\":\"29451\"},\"nonselection_glyph\":{\"id\":\"29450\"},\"selection_glyph\":{\"id\":\"29467\"},\"view\":{\"id\":\"29453\"}},\"id\":\"29452\",\"type\":\"GlyphRenderer\"},{\"attributes\":{\"line_alpha\":0.1,\"line_color\":\"gray\",\"line_dash\":[4,4],\"line_width\":2,\"x\":{\"field\":\"x\"},\"y\":{\"field\":\"y\"}},\"id\":\"29450\",\"type\":\"Line\"},{\"attributes\":{},\"id\":\"29398\",\"type\":\"BasicTicker\"},{\"attributes\":{\"line_alpha\":0.2,\"line_color\":\"gray\",\"line_dash\":[4,4],\"line_width\":2,\"x\":{\"field\":\"x\"},\"y\":{\"field\":\"y\"}},\"id\":\"29451\",\"type\":\"Line\"},{\"attributes\":{\"source\":{\"id\":\"29446\"}},\"id\":\"29453\",\"type\":\"CDSView\"},{\"attributes\":{},\"id\":\"29424\",\"type\":\"AllLabels\"},{\"attributes\":{},\"id\":\"29393\",\"type\":\"LinearScale\"},{\"attributes\":{\"label\":{\"value\":\"f '(t)\"},\"renderers\":[{\"id\":\"29452\"}]},\"id\":\"29466\",\"type\":\"LegendItem\"},{\"attributes\":{\"line_color\":\"gray\",\"line_dash\":[4,4],\"line_width\":2,\"x\":{\"field\":\"x\"},\"y\":{\"field\":\"y\"}},\"id\":\"29467\",\"type\":\"Line\"},{\"attributes\":{\"below\":[{\"id\":\"29397\"}],\"center\":[{\"id\":\"29400\"},{\"id\":\"29404\"},{\"id\":\"29443\"}],\"height\":300,\"left\":[{\"id\":\"29401\"}],\"margin\":[5,5,5,5],\"min_border_bottom\":10,\"min_border_left\":10,\"min_border_right\":10,\"min_border_top\":10,\"renderers\":[{\"id\":\"29431\"},{\"id\":\"29452\"}],\"sizing_mode\":\"fixed\",\"title\":{\"id\":\"29389\"},\"toolbar\":{\"id\":\"29411\"},\"x_range\":{\"id\":\"29384\"},\"x_scale\":{\"id\":\"29393\"},\"y_range\":{\"id\":\"29385\"},\"y_scale\":{\"id\":\"29395\"}},\"id\":\"29388\",\"subtype\":\"Figure\",\"type\":\"Plot\"},{\"attributes\":{},\"id\":\"29423\",\"type\":\"BasicTickFormatter\"},{\"attributes\":{},\"id\":\"29463\",\"type\":\"UnionRenderers\"},{\"attributes\":{},\"id\":\"29420\",\"type\":\"BasicTickFormatter\"},{\"attributes\":{},\"id\":\"29421\",\"type\":\"AllLabels\"},{\"attributes\":{\"line_width\":2,\"x\":{\"field\":\"x\"},\"y\":{\"field\":\"y\"}},\"id\":\"29428\",\"type\":\"Line\"},{\"attributes\":{},\"id\":\"29426\",\"type\":\"Selection\"},{\"attributes\":{\"axis\":{\"id\":\"29397\"},\"coordinates\":null,\"grid_line_color\":null,\"group\":null,\"ticker\":null},\"id\":\"29400\",\"type\":\"Grid\"},{\"attributes\":{\"coordinates\":null,\"group\":null,\"text_color\":\"black\",\"text_font_size\":\"12pt\"},\"id\":\"29389\",\"type\":\"Title\"},{\"attributes\":{\"end\":15.692036732050923,\"reset_end\":15.692036732050923,\"reset_start\":-15.707963267948966,\"start\":-15.707963267948966,\"tags\":[[[\"x\",\"x\",null]]]},\"id\":\"29384\",\"type\":\"Range1d\"},{\"attributes\":{\"axis_label\":\"x\",\"coordinates\":null,\"formatter\":{\"id\":\"29420\"},\"group\":null,\"major_label_policy\":{\"id\":\"29421\"},\"ticker\":{\"id\":\"29398\"}},\"id\":\"29397\",\"type\":\"LinearAxis\"},{\"attributes\":{\"children\":[{\"id\":\"29388\"}],\"height\":300,\"margin\":[0,0,0,0],\"name\":\"Row20669\",\"sizing_mode\":\"fixed\",\"tags\":[\"embedded\"],\"width\":600},\"id\":\"29381\",\"type\":\"Row\"},{\"attributes\":{},\"id\":\"29406\",\"type\":\"PanTool\"},{\"attributes\":{\"click_policy\":\"mute\",\"coordinates\":null,\"group\":null,\"items\":[{\"id\":\"29444\"},{\"id\":\"29466\"}]},\"id\":\"29443\",\"type\":\"Legend\"},{\"attributes\":{\"axis_label\":\"y\",\"coordinates\":null,\"formatter\":{\"id\":\"29423\"},\"group\":null,\"major_label_policy\":{\"id\":\"29424\"},\"ticker\":{\"id\":\"29402\"}},\"id\":\"29401\",\"type\":\"LinearAxis\"},{\"attributes\":{\"axis\":{\"id\":\"29401\"},\"coordinates\":null,\"dimension\":1,\"grid_line_color\":null,\"group\":null,\"ticker\":null},\"id\":\"29404\",\"type\":\"Grid\"},{\"attributes\":{},\"id\":\"29402\",\"type\":\"BasicTicker\"},{\"attributes\":{},\"id\":\"29407\",\"type\":\"WheelZoomTool\"},{\"attributes\":{\"end\":1.1816128124037313,\"reset_end\":1.1816128124037313,\"reset_start\":-1.0211151746058067,\"start\":-1.0211151746058067,\"tags\":[[[\"y\",\"y\",null]]]},\"id\":\"29385\",\"type\":\"Range1d\"},{\"attributes\":{\"active_drag\":{\"id\":\"29406\"},\"active_scroll\":{\"id\":\"29407\"},\"tools\":[{\"id\":\"29405\"},{\"id\":\"29406\"},{\"id\":\"29407\"},{\"id\":\"29408\"},{\"id\":\"29409\"}]},\"id\":\"29411\",\"type\":\"Toolbar\"},{\"attributes\":{},\"id\":\"29440\",\"type\":\"UnionRenderers\"},{\"attributes\":{},\"id\":\"29405\",\"type\":\"SaveTool\"},{\"attributes\":{\"overlay\":{\"id\":\"29410\"}},\"id\":\"29408\",\"type\":\"BoxZoomTool\"},{\"attributes\":{\"label\":{\"value\":\"f(t)\"},\"renderers\":[{\"id\":\"29431\"}]},\"id\":\"29444\",\"type\":\"LegendItem\"},{\"attributes\":{},\"id\":\"29409\",\"type\":\"ResetTool\"},{\"attributes\":{\"data\":{\"x\":{\"__ndarray__\":\"XjhVKXpqL8D40e7CEwQvwJJriFytnS7ALAUi9kY3LsDGnruP4NAtwGA4VSl6ai3A+tHuwhMELcCUa4hcrZ0swC4FIvZGNyzAyJ67j+DQK8BiOFUpemorwPzR7sITBCvAlmuIXK2dKsAwBSL2RjcqwMqeu4/g0CnAZDhVKXpqKcD+0e7CEwQpwJhriFytnSjAMgUi9kY3KMDMnruP4NAnwGY4VSl6aifAANLuwhMEJ8Caa4hcrZ0mwDQFIvZGNybAzp67j+DQJcBoOFUpemolwALS7sITBCXAnGuIXK2dJMA2BSL2RjckwNCeu4/g0CPAajhVKXpqI8AE0u7CEwQjwJ5riFytnSLAOAUi9kY3IsDSnruP4NAhwGw4VSl6aiHABtLuwhMEIcCga4hcrZ0gwDoFIvZGNyDAqD13H8GhH8DccKpS9NQewBCk3YUnCB7ARNcQuVo7HcB4CkTsjW4cwKw9dx/BoRvA4HCqUvTUGsAUpN2FJwgawEjXELlaOxnAfApE7I1uGMCwPXcfwaEXwORwqlL01BbAGKTdhScIFsBM1xC5WjsVwIAKROyNbhTAtD13H8GhE8DocKpS9NQSwByk3YUnCBLAUNcQuVo7EcCECkTsjW4QwHB77j6CQw/A2OFUpeipDcBASLsLTxAMwKiuIXK1dgrAEBWI2BvdCMB4e+4+gkMHwODhVKXoqQXASEi7C08QBMCwriFytXYCwBgViNgb3QDAAPfcfQSH/r/Qw6lK0VP7v6CQdheeIPi/cF1D5Grt9L9AKhCxN7rxvyDuufsIDu2/wIdTlaKn5r9gIe0uPEHgvwB2DZGrtdO/AKUCEXuju78AjjAiuI+3P0DwWNW6sNI/AL0lood93z/gRHk3KiXmP0Cr352Qi+w/0Agjgvt48T8APFa1Lqz0PzBviehh3/c/YKK8G5US+z+Q1e9OyEX+P2CEEcF9vABA+B2rWhdWAkCQt0T0sO8DQChR3o1KiQVAwOp3J+QiB0BYhBHBfbwIQPAdq1oXVgpAiLdE9LDvC0AgUd6NSokNQLjqdyfkIg9AKMKI4D5eEED0jlWtCysRQMBbInrY9xFAjCjvRqXEEkBY9bsTcpETQCTCiOA+XhRA8I5VrQsrFUC8WyJ62PcVQIgo70alxBZAVPW7E3KRF0AgwojgPl4YQOyOVa0LKxlAuFsietj3GUCEKO9GpcQaQFD1uxNykRtAHMKI4D5eHEDojlWtCysdQLRbInrY9x1AgCjvRqXEHkBM9bsTcpEfQAxhRHAfLyBAcseq1oWVIEDYLRE97PsgQD6Ud6NSYiFApPrdCbnIIUAKYURwHy8iQHDHqtaFlSJA1i0RPez7IkA8lHejUmIjQKL63Qm5yCNACGFEcB8vJEBux6rWhZUkQNQtET3s+yRAOpR3o1JiJUCg+t0JucglQAZhRHAfLyZAbMeq1oWVJkDSLRE97PsmQDiUd6NSYidAnvrdCbnIJ0AEYURwHy8oQGrHqtaFlShA0C0RPez7KEA2lHejUmIpQJz63Qm5yClAAmFEcB8vKkBox6rWhZUqQM4tET3s+ypANJR3o1JiK0Ca+t0JucgrQABhRHAfLyxAZseq1oWVLEDMLRE97PssQDKUd6NSYi1AmPrdCbnILUD+YERwHy8uQGTHqtaFlS5Ayi0RPez7LkAwlHejUmIvQA==\",\"dtype\":\"float64\",\"order\":\"little\",\"shape\":[158]},\"y\":{\"__ndarray__\":\"X6mupuJ9yD+lSd9GYBnMP/M6kQvKj84/OkWMbyPmzz840/H43BTQPzAXVUGOb88/SNWTnInTzT9TU6BFhXfLP0MHeRErgsg/iqsXGbcdxT+vr3xWo3bBP57LGgeNdLs/YzCbut8qtD/l/ZXqJcyqP20QspFV1p0/i7oOgjkAhT+bsxx6hN1rv5toKl4Qw4a/qE/v8LVdib8uUi4SJHl8v+md3VCrV3U/3bsVBzpzmD++q4G2COCoP4YLHVa2IbQ/gp0R0q72vD/4fOq+wFPDPznZl65Accg/ZNsbXgOnzT8/qf5zvWLRP4LqeT/dzdM/aof6GnD81T8+8BnnwdbXP0gfTV6QRtk/OTB01Lg32j8Ni9v82ZjaPxlXHkjlW9o//om00Jt22T/XbF1N8+LXP9Uc2xhgn9U/dBbJCgKv0j9scd8yZTPOP5NaMQfn18U/QadGOvjauD8O3fMoO/OQP6ax1Zo4x7G/LPwz2mlgxL8jmgYpVw3Qv6gSanmm6NW/8c76E3Gg2780/cAOV4ngv0eY7O/nDuO/3NpPWctQ5b9cD+6t7z/nv2uxpN+zzui/ZGzSckLx6b8qBurb4p3qv72xGx0/zeq/AwYl0Jt66r/GujQaAaTpv2FcpmNTSui/14DtEFtx5r/ALufiuh/kv4deXxDVXuG/DH2CLD913L8DR/VJ0YLVv8Lp8NUxDsy/K4G0Y/GYuL/U611pR4+fP15/JAGrW8Q/28+/19BO0j9XAy4KSDLaP9/Wv6q/1+A/gce9ksJP5D/wqEU1CG/nP+6RvUQoJeo/Wt4T/dRj7D9MbOGOLR/uP2ZaFLICTu8/lul6vwvq7z+BXkkOC/DvPzpcWbjgX+8/hODqUos87j+dS4KXFozsP9eRbWZ4V+o/mQzW91yq5z8O2W1245LkP1KqQZ1MIeE/ithqjTrP2j+9cEpGbvLSP7oQLSGoqcU/LrvCXwcApT8eCijArwm2v0tQN6Rl08q/umlmeNbu1L+PPiDecu3bv4NvNXtBIuG/G/kcZojr47/uqK8EZkbmv2wCzcRBKei/eYnCqj+N6b/BQP2TXG7qv7Rs/zh5y+q/75gx1FOm6r8Ge9e+cAPqv9looL7y6ei/t91hImRj57+FFBUpcnvlv0af7ICcP+O/iHtB89q+4L/1hPQWdxLcv8CiF2P3Xta/UhyUlj2F0L+VrmAHFE7Fv7jelA8mlLO/NDTFTqI9hD+LasY+MUa3P8Ip9kFgIcU/vhiBMc2TzT+nbfNl3mvSP7/1YYe4adU/NbGThzu71z9uAq5W51zZP6LGwaXpT9o/pwRPdPOZ2j8iPphI8UTaP91bhUioXtk/U/yWFjv41z8QO23wmSXWP3Ia0g7i/NM/MInTrrCV0T+XxW3r3BDOPyxNRRkw28g/p5CBtxG6wz+npY3cMrW9PxqHAGr0y7Q/IAaS6nEBqj93Ol+V/T6aP7tKlB89eXo/3RM4u6eCeb/Os+UrofyIv2MXIdSGdoe/uIXz3odfcb8xH4V3BFyCP3dHAhw3H5w/ZDwpmHDIqT+mKMch7JqzP0/Mz04Y3bo/LnyOkqkqwT9hRVoOGdXEPwPGiqOBQMg/lyTluEpAyz8wiqjO/anNP6FERj6cVs8/k6gV0O8R0D86+pH/W/XPPzmOm8V7tc4/9UyGPE5WzD+Lu3mzItLIPw==\",\"dtype\":\"float64\",\"order\":\"little\",\"shape\":[158]}},\"selected\":{\"id\":\"29426\"},\"selection_policy\":{\"id\":\"29440\"}},\"id\":\"29425\",\"type\":\"ColumnDataSource\"},{\"attributes\":{\"data\":{\"x\":{\"__ndarray__\":\"XjhVKXpqL8D40e7CEwQvwJJriFytnS7ALAUi9kY3LsDGnruP4NAtwGA4VSl6ai3A+tHuwhMELcCUa4hcrZ0swC4FIvZGNyzAyJ67j+DQK8BiOFUpemorwPzR7sITBCvAlmuIXK2dKsAwBSL2RjcqwMqeu4/g0CnAZDhVKXpqKcD+0e7CEwQpwJhriFytnSjAMgUi9kY3KMDMnruP4NAnwGY4VSl6aifAANLuwhMEJ8Caa4hcrZ0mwDQFIvZGNybAzp67j+DQJcBoOFUpemolwALS7sITBCXAnGuIXK2dJMA2BSL2RjckwNCeu4/g0CPAajhVKXpqI8AE0u7CEwQjwJ5riFytnSLAOAUi9kY3IsDSnruP4NAhwGw4VSl6aiHABtLuwhMEIcCga4hcrZ0gwDoFIvZGNyDAqD13H8GhH8DccKpS9NQewBCk3YUnCB7ARNcQuVo7HcB4CkTsjW4cwKw9dx/BoRvA4HCqUvTUGsAUpN2FJwgawEjXELlaOxnAfApE7I1uGMCwPXcfwaEXwORwqlL01BbAGKTdhScIFsBM1xC5WjsVwIAKROyNbhTAtD13H8GhE8DocKpS9NQSwByk3YUnCBLAUNcQuVo7EcCECkTsjW4QwHB77j6CQw/A2OFUpeipDcBASLsLTxAMwKiuIXK1dgrAEBWI2BvdCMB4e+4+gkMHwODhVKXoqQXASEi7C08QBMCwriFytXYCwBgViNgb3QDAAPfcfQSH/r/Qw6lK0VP7v6CQdheeIPi/cF1D5Grt9L9AKhCxN7rxvyDuufsIDu2/wIdTlaKn5r9gIe0uPEHgvwB2DZGrtdO/AKUCEXuju78AjjAiuI+3P0DwWNW6sNI/AL0lood93z/gRHk3KiXmP0Cr352Qi+w/0Agjgvt48T8APFa1Lqz0PzBviehh3/c/YKK8G5US+z+Q1e9OyEX+P2CEEcF9vABA+B2rWhdWAkCQt0T0sO8DQChR3o1KiQVAwOp3J+QiB0BYhBHBfbwIQPAdq1oXVgpAiLdE9LDvC0AgUd6NSokNQLjqdyfkIg9AKMKI4D5eEED0jlWtCysRQMBbInrY9xFAjCjvRqXEEkBY9bsTcpETQCTCiOA+XhRA8I5VrQsrFUC8WyJ62PcVQIgo70alxBZAVPW7E3KRF0AgwojgPl4YQOyOVa0LKxlAuFsietj3GUCEKO9GpcQaQFD1uxNykRtAHMKI4D5eHEDojlWtCysdQLRbInrY9x1AgCjvRqXEHkBM9bsTcpEfQAxhRHAfLyBAcseq1oWVIEDYLRE97PsgQD6Ud6NSYiFApPrdCbnIIUAKYURwHy8iQHDHqtaFlSJA1i0RPez7IkA8lHejUmIjQKL63Qm5yCNACGFEcB8vJEBux6rWhZUkQNQtET3s+yRAOpR3o1JiJUCg+t0JucglQAZhRHAfLyZAbMeq1oWVJkDSLRE97PsmQDiUd6NSYidAnvrdCbnIJ0AEYURwHy8oQGrHqtaFlShA0C0RPez7KEA2lHejUmIpQJz63Qm5yClAAmFEcB8vKkBox6rWhZUqQM4tET3s+ypANJR3o1JiK0Ca+t0JucgrQABhRHAfLyxAZseq1oWVLEDMLRE97PssQDKUd6NSYi1AmPrdCbnILUD+YERwHy8uQGTHqtaFlS5Ayi0RPez7LkAwlHejUmIvQA==\",\"dtype\":\"float64\",\"order\":\"little\",\"shape\":[158]},\"y\":{\"__ndarray__\":\"gqwtFrzjxD9hrowrS1i+P2hWCSdj8LI/aD587naTnz+4fs4CxM+DvwTUMuqFxae/UfIuuP8UtL/1vdtssdq6v5m/I8TeBMC/IeJoFHvCwb9S27ByZJ7Cv5khryzHl8K/dLM3Vry0wb8JbhLtEALAv8Uetfy8Jbu/tLP4RvD/tL8G0MI5v5yrv60x7SDHU5e/0oDqXh8RhT8tmt7O/JCmP1qvD1nLzbM/dE2wbhbiuz9Iz9XKCpzBPxAD/lKyw8Q/qlOkolBHxz+88JxNrArJP/htHM7c9sk/+25mGQD7yT8SATqwxwzJP3Twr0DZKMc/BsHAEgBTxD9tYAWvLZbAP8+8RuGSCLg/+yw53j/Xqj8QSzXklSh5P+Y1IcYcdqa/jIr5V6esuL+TZGiCcTXDvyC+WeXbDMq/d23NmrJW0L/gN+2g93PTvwumEYlTR9a/NDlFGB672L9jgwW4hbvavx829rsaN9y/1xvX6Ewf3b9CZzfv12jdvxdFgfUbDN2/U+YnyV8F3L+Mje/a+lTavwWb+cJl/9e/QjOrqjAN1b/qLaeg34rRvzI9jQNbEcu/ovwnim00wr8XMdlQOFixv6BKW85aWIU/KNeESCw1tz/2qrKEn+rFP/bY++jyBdA/Z3lGzV/i1D+PQBTNeG7ZP/3aql+Cj90/lpAEj2OW4D+R39tlGBjiP3WS001pQ+M/Xf+QorAQ5D8ddJL1SnrkP7SS6ay8fOQ/J26N18oW5D/xoKyQhknjP7o9iJ5KGOI/2ki3TquI4D8irErOsUTdP99wJa3q3dg/eduEPbzz0z8olY/vrj/NP45FVDmg/ME/G5hUP9hnqT+RwXhH8amlvwwKCwggEsG/JDEoCAVfzL9dYpBVpIrTvxq1G903fti/ulRl41Xw3L9DYaQFAWXgv8it1sfW++G/TaihmtI0479FNPnuMwrkvwtTut5xeOS/cIhIZkx+5L/rqGnfzxzkv0lRrLRKV+O/qSQSmjUz4r+8HxjrDrjgvyZh/zpU3t2/JWDwAunG2b9lJlySYULVv+9odBNWa9C/gHxLUpy7xr98Fw5PWdq4vwCpMRYjKZG/D615a4GPrz8+PrVfv3fBPyp1XK4MZMo/WX2GUpo90T/uPLCTvsrUP+jt6uHvyNc/Pb9w5lsr2j+OxWk9IOnbP8RYkDBw/dw/26puY6Bn3T+90K1fGCvdP0IqQ5YqT9w/sv47DNTe2j/Z/W+DZejYP1azsXwYfdY/GIyn7pKw0z9+CTf3XJjQP7ANbUWYlso/Nay3Q9DBwz/tAWmwM8O5P9j77rdykKg/YCDnE3KvYr/FHVQelwmpv551UC9OPbe/7tFM3YpAwL//RMLOEw/Ev/i80zPQ98a/lnKGND7vyL/mb3gpAPHJv7LqE9/f/8m/BNnTAKElyb8UV7sjpHLHv+osqh5d/cS/Z7WBhKDhwb/sVlY/mn+8vynEfnOud7S/U9t/+/Dwp7+8aMhcXo6Kv9+bzn/cr5Q/pN4IyWBkqj9ehyITQXa0P6v6Zc6us7o/RPR2Nxyuvz/WQNhhhJnBP2zafgemjcI/RB3wQiGmwj8W3uqlUdzBP4gAIsF8MMA/nfqRer1Tuz8eW/7bDK20P4yYw5UGLKk/0OaH17wdij90+b8dcCicvyQyM1G+CrK/dWNozlxuvb9UH2yXE3DEvw==\",\"dtype\":\"float64\",\"order\":\"little\",\"shape\":[158]}},\"selected\":{\"id\":\"29447\"},\"selection_policy\":{\"id\":\"29463\"}},\"id\":\"29446\",\"type\":\"ColumnDataSource\"}],\"root_ids\":[\"29381\"]},\"title\":\"Bokeh Application\",\"version\":\"2.4.3\"}};\n",
       "    var render_items = [{\"docid\":\"b02f3cad-bbad-44d4-bc59-31bbef2842c5\",\"root_ids\":[\"29381\"],\"roots\":{\"29381\":\"247fcd83-4362-442e-ac24-2eaf4f2e8b4e\"}}];\n",
       "    root.Bokeh.embed.embed_items_notebook(docs_json, render_items);\n",
       "    for (const render_item of render_items) {\n",
       "      for (const root_id of render_item.root_ids) {\n",
       "\tconst id_el = document.getElementById(root_id)\n",
       "\tif (id_el.children.length && (id_el.children[0].className === 'bk-root')) {\n",
       "\t  const root_el = id_el.children[0]\n",
       "\t  root_el.id = root_el.id + '-rendered'\n",
       "\t}\n",
       "      }\n",
       "    }\n",
       "  }\n",
       "  if (root.Bokeh !== undefined && root.Bokeh.Panel !== undefined) {\n",
       "    embed_document(root);\n",
       "  } else {\n",
       "    var attempts = 0;\n",
       "    var timer = setInterval(function(root) {\n",
       "      if (root.Bokeh !== undefined && root.Bokeh.Panel !== undefined) {\n",
       "        clearInterval(timer);\n",
       "        embed_document(root);\n",
       "      } else if (document.readyState == \"complete\") {\n",
       "        attempts++;\n",
       "        if (attempts > 200) {\n",
       "          clearInterval(timer);\n",
       "          console.log(\"Bokeh: ERROR: Unable to run BokehJS code because BokehJS library is missing\");\n",
       "        }\n",
       "      }\n",
       "    }, 25, root)\n",
       "  }\n",
       "})(window);</script>"
      ],
      "text/plain": [
       ":Overlay\n",
       "   .Curve.F_left_parenthesis_t_right_parenthesis            :Curve   [x]   (y)\n",
       "   .Curve.F_apostrophe_left_parenthesis_t_right_parenthesis :Curve   [x]   (y)"
      ]
     },
     "execution_count": 166,
     "metadata": {
      "application/vnd.holoviews_exec.v0+json": {
       "id": "29381"
      }
     },
     "output_type": "execute_result"
    }
   ],
   "source": [
    "disp = \\\n",
    "    hv.Curve(zip(t, f_t), label=\"f(t)\").opts(color='black') * \\\n",
    "    hv.Curve(zip(t, true_df), label=\"f '(t)\").opts(color='gray', line_dash=(4,4))\n",
    "\n",
    "disp.opts(\n",
    "    hv.opts.Curve( height=300, width=600)\n",
    ")"
   ]
  },
  {
   "cell_type": "code",
   "execution_count": 146,
   "id": "183fcac4-7319-4631-b7c4-c63cfe837aa3",
   "metadata": {},
   "outputs": [
    {
     "data": {},
     "metadata": {},
     "output_type": "display_data"
    },
    {
     "data": {},
     "metadata": {},
     "output_type": "display_data"
    },
    {
     "data": {
      "application/vnd.holoviews_exec.v0+json": "",
      "text/html": [
       "<div id='23095'>\n",
       "  <div class=\"bk-root\" id=\"e6d02753-0aa8-49ed-bd87-bf349654ce3f\" data-root-id=\"23095\"></div>\n",
       "</div>\n",
       "<script type=\"application/javascript\">(function(root) {\n",
       "  function embed_document(root) {\n",
       "    var docs_json = {\"09c92609-730c-45dc-89f3-93158422f1a6\":{\"defs\":[{\"extends\":null,\"module\":null,\"name\":\"ReactiveHTML1\",\"overrides\":[],\"properties\":[]},{\"extends\":null,\"module\":null,\"name\":\"FlexBox1\",\"overrides\":[],\"properties\":[{\"default\":\"flex-start\",\"kind\":null,\"name\":\"align_content\"},{\"default\":\"flex-start\",\"kind\":null,\"name\":\"align_items\"},{\"default\":\"row\",\"kind\":null,\"name\":\"flex_direction\"},{\"default\":\"wrap\",\"kind\":null,\"name\":\"flex_wrap\"},{\"default\":\"flex-start\",\"kind\":null,\"name\":\"justify_content\"}]},{\"extends\":null,\"module\":null,\"name\":\"GridStack1\",\"overrides\":[],\"properties\":[{\"default\":\"warn\",\"kind\":null,\"name\":\"mode\"},{\"default\":null,\"kind\":null,\"name\":\"ncols\"},{\"default\":null,\"kind\":null,\"name\":\"nrows\"},{\"default\":true,\"kind\":null,\"name\":\"allow_resize\"},{\"default\":true,\"kind\":null,\"name\":\"allow_drag\"},{\"default\":[],\"kind\":null,\"name\":\"state\"}]},{\"extends\":null,\"module\":null,\"name\":\"click1\",\"overrides\":[],\"properties\":[{\"default\":\"\",\"kind\":null,\"name\":\"terminal_output\"},{\"default\":\"\",\"kind\":null,\"name\":\"debug_name\"},{\"default\":0,\"kind\":null,\"name\":\"clears\"}]},{\"extends\":null,\"module\":null,\"name\":\"NotificationAreaBase1\",\"overrides\":[],\"properties\":[{\"default\":\"bottom-right\",\"kind\":null,\"name\":\"position\"},{\"default\":0,\"kind\":null,\"name\":\"_clear\"}]},{\"extends\":null,\"module\":null,\"name\":\"NotificationArea1\",\"overrides\":[],\"properties\":[{\"default\":[],\"kind\":null,\"name\":\"notifications\"},{\"default\":\"bottom-right\",\"kind\":null,\"name\":\"position\"},{\"default\":0,\"kind\":null,\"name\":\"_clear\"},{\"default\":[{\"background\":\"#ffc107\",\"icon\":{\"className\":\"fas fa-exclamation-triangle\",\"color\":\"white\",\"tagName\":\"i\"},\"type\":\"warning\"},{\"background\":\"#007bff\",\"icon\":{\"className\":\"fas fa-info-circle\",\"color\":\"white\",\"tagName\":\"i\"},\"type\":\"info\"}],\"kind\":null,\"name\":\"types\"}]},{\"extends\":null,\"module\":null,\"name\":\"Notification\",\"overrides\":[],\"properties\":[{\"default\":null,\"kind\":null,\"name\":\"background\"},{\"default\":3000,\"kind\":null,\"name\":\"duration\"},{\"default\":null,\"kind\":null,\"name\":\"icon\"},{\"default\":\"\",\"kind\":null,\"name\":\"message\"},{\"default\":null,\"kind\":null,\"name\":\"notification_type\"},{\"default\":false,\"kind\":null,\"name\":\"_destroyed\"}]},{\"extends\":null,\"module\":null,\"name\":\"TemplateActions1\",\"overrides\":[],\"properties\":[{\"default\":0,\"kind\":null,\"name\":\"open_modal\"},{\"default\":0,\"kind\":null,\"name\":\"close_modal\"}]},{\"extends\":null,\"module\":null,\"name\":\"MaterialTemplateActions1\",\"overrides\":[],\"properties\":[{\"default\":0,\"kind\":null,\"name\":\"open_modal\"},{\"default\":0,\"kind\":null,\"name\":\"close_modal\"}]}],\"roots\":{\"references\":[{\"attributes\":{\"coordinates\":null,\"data_source\":{\"id\":\"23184\"},\"glyph\":{\"id\":\"23187\"},\"group\":null,\"hover_glyph\":null,\"muted_glyph\":{\"id\":\"23189\"},\"nonselection_glyph\":{\"id\":\"23188\"},\"selection_glyph\":{\"id\":\"23192\"},\"view\":{\"id\":\"23191\"}},\"id\":\"23190\",\"type\":\"GlyphRenderer\"},{\"attributes\":{},\"id\":\"23137\",\"type\":\"AllLabels\"},{\"attributes\":{\"source\":{\"id\":\"23184\"}},\"id\":\"23191\",\"type\":\"CDSView\"},{\"attributes\":{},\"id\":\"23122\",\"type\":\"PanTool\"},{\"attributes\":{\"axis_label\":\"f '(t)\",\"coordinates\":null,\"formatter\":{\"id\":\"23139\"},\"group\":null,\"major_label_policy\":{\"id\":\"23140\"},\"ticker\":{\"id\":\"23118\"}},\"id\":\"23117\",\"type\":\"LinearAxis\"},{\"attributes\":{\"active_drag\":{\"id\":\"23122\"},\"active_scroll\":{\"id\":\"23123\"},\"tools\":[{\"id\":\"23121\"},{\"id\":\"23122\"},{\"id\":\"23123\"},{\"id\":\"23124\"},{\"id\":\"23125\"}]},\"id\":\"23127\",\"type\":\"Toolbar\"},{\"attributes\":{\"axis\":{\"id\":\"23117\"},\"coordinates\":null,\"dimension\":1,\"grid_line_color\":null,\"group\":null,\"ticker\":null},\"id\":\"23120\",\"type\":\"Grid\"},{\"attributes\":{},\"id\":\"23118\",\"type\":\"BasicTicker\"},{\"attributes\":{},\"id\":\"23123\",\"type\":\"WheelZoomTool\"},{\"attributes\":{},\"id\":\"23156\",\"type\":\"UnionRenderers\"},{\"attributes\":{\"click_policy\":\"mute\",\"coordinates\":null,\"group\":null,\"items\":[{\"id\":\"23160\"},{\"id\":\"23182\"}]},\"id\":\"23159\",\"type\":\"Legend\"},{\"attributes\":{},\"id\":\"23121\",\"type\":\"SaveTool\"},{\"attributes\":{\"overlay\":{\"id\":\"23126\"}},\"id\":\"23124\",\"type\":\"BoxZoomTool\"},{\"attributes\":{},\"id\":\"23125\",\"type\":\"ResetTool\"},{\"attributes\":{\"end\":2.0,\"margin\":[5,10,5,10],\"start\":0.2,\"step\":0.1,\"title\":\"dt\",\"value\":0.2},\"id\":\"23096\",\"type\":\"Slider\"},{\"attributes\":{\"coordinates\":null,\"group\":null,\"text_color\":\"black\",\"text_font_size\":\"12pt\"},\"id\":\"23105\",\"type\":\"Title\"},{\"attributes\":{\"line_color\":\"gray\",\"line_dash\":[4,4],\"line_width\":2,\"x\":{\"field\":\"t\"},\"y\":{\"field\":\"f '(t)\"}},\"id\":\"23161\",\"type\":\"Line\"},{\"attributes\":{\"end\":0.7682910837828506,\"reset_end\":0.7682910837828506,\"reset_start\":-0.7684816870892505,\"start\":-0.7684816870892505,\"tags\":[[[\"f '(t)\",\"f '(t)\",null]]]},\"id\":\"23101\",\"type\":\"Range1d\"},{\"attributes\":{},\"id\":\"23163\",\"type\":\"Selection\"},{\"attributes\":{\"bottom_units\":\"screen\",\"coordinates\":null,\"fill_alpha\":0.5,\"fill_color\":\"lightgrey\",\"group\":null,\"left_units\":\"screen\",\"level\":\"overlay\",\"line_alpha\":1.0,\"line_color\":\"black\",\"line_dash\":[4,4],\"line_width\":2,\"right_units\":\"screen\",\"syncable\":false,\"top_units\":\"screen\"},\"id\":\"23126\",\"type\":\"BoxAnnotation\"},{\"attributes\":{\"line_alpha\":0.1,\"line_color\":\"magenta\",\"line_width\":2,\"x\":{\"field\":\"x\"},\"y\":{\"field\":\"y\"}},\"id\":\"23166\",\"type\":\"Line\"},{\"attributes\":{\"axis_label\":\"t\",\"coordinates\":null,\"formatter\":{\"id\":\"23136\"},\"group\":null,\"major_label_policy\":{\"id\":\"23137\"},\"ticker\":{\"id\":\"23114\"}},\"id\":\"23113\",\"type\":\"LinearAxis\"},{\"attributes\":{},\"id\":\"23136\",\"type\":\"BasicTickFormatter\"},{\"attributes\":{\"client_comm_id\":\"5fb1bde3678b4b94bc5feabe5ce27850\",\"comm_id\":\"855bee2cb0a0420f82c11a312da7ce18\",\"plot_id\":\"23095\"},\"id\":\"23253\",\"type\":\"panel.models.comm_manager.CommManager\"},{\"attributes\":{\"text_align\":{\"value\":\"center\"},\"text_baseline\":{\"value\":\"middle\"},\"text_color\":{\"value\":\"black\"},\"text_font_size\":{\"value\":\"12Pt\"},\"x\":{\"field\":\"x\"},\"y\":{\"field\":\"y\"}},\"id\":\"23187\",\"type\":\"Text\"},{\"attributes\":{\"line_alpha\":0.2,\"line_color\":\"magenta\",\"line_width\":2,\"x\":{\"field\":\"x\"},\"y\":{\"field\":\"y\"}},\"id\":\"23167\",\"type\":\"Line\"},{\"attributes\":{\"line_alpha\":0.1,\"line_color\":\"gray\",\"line_dash\":[4,4],\"line_width\":2,\"x\":{\"field\":\"t\"},\"y\":{\"field\":\"f '(t)\"}},\"id\":\"23145\",\"type\":\"Line\"},{\"attributes\":{},\"id\":\"23109\",\"type\":\"LinearScale\"},{\"attributes\":{\"label\":{\"value\":\"TRUE f '(t)\"},\"renderers\":[{\"id\":\"23147\"}]},\"id\":\"23160\",\"type\":\"LegendItem\"},{\"attributes\":{\"coordinates\":null,\"data_source\":{\"id\":\"23162\"},\"glyph\":{\"id\":\"23165\"},\"group\":null,\"hover_glyph\":null,\"muted_glyph\":{\"id\":\"23167\"},\"nonselection_glyph\":{\"id\":\"23166\"},\"selection_glyph\":{\"id\":\"23183\"},\"view\":{\"id\":\"23169\"}},\"id\":\"23168\",\"type\":\"GlyphRenderer\"},{\"attributes\":{\"source\":{\"id\":\"23141\"}},\"id\":\"23148\",\"type\":\"CDSView\"},{\"attributes\":{\"line_color\":\"magenta\",\"line_width\":2,\"x\":{\"field\":\"x\"},\"y\":{\"field\":\"y\"}},\"id\":\"23183\",\"type\":\"Line\"},{\"attributes\":{\"below\":[{\"id\":\"23113\"}],\"center\":[{\"id\":\"23116\"},{\"id\":\"23120\"},{\"id\":\"23159\"}],\"height\":300,\"left\":[{\"id\":\"23117\"}],\"margin\":[5,5,5,5],\"min_border_bottom\":10,\"min_border_left\":10,\"min_border_right\":10,\"min_border_top\":10,\"name\":\"ParamFunction16255\",\"renderers\":[{\"id\":\"23147\"},{\"id\":\"23168\"},{\"id\":\"23190\"}],\"sizing_mode\":\"fixed\",\"title\":{\"id\":\"23105\"},\"toolbar\":{\"id\":\"23127\"},\"x_range\":{\"id\":\"23100\"},\"x_scale\":{\"id\":\"23109\"},\"y_range\":{\"id\":\"23101\"},\"y_scale\":{\"id\":\"23111\"}},\"id\":\"23104\",\"subtype\":\"Figure\",\"type\":\"Plot\"},{\"attributes\":{\"line_alpha\":0.2,\"line_color\":\"gray\",\"line_dash\":[4,4],\"line_width\":2,\"x\":{\"field\":\"t\"},\"y\":{\"field\":\"f '(t)\"}},\"id\":\"23146\",\"type\":\"Line\"},{\"attributes\":{\"coordinates\":null,\"data_source\":{\"id\":\"23141\"},\"glyph\":{\"id\":\"23144\"},\"group\":null,\"hover_glyph\":null,\"muted_glyph\":{\"id\":\"23146\"},\"nonselection_glyph\":{\"id\":\"23145\"},\"selection_glyph\":{\"id\":\"23161\"},\"view\":{\"id\":\"23148\"}},\"id\":\"23147\",\"type\":\"GlyphRenderer\"},{\"attributes\":{},\"id\":\"23185\",\"type\":\"Selection\"},{\"attributes\":{\"label\":{\"value\":\"EST f '(t)\"},\"renderers\":[{\"id\":\"23168\"}]},\"id\":\"23182\",\"type\":\"LegendItem\"},{\"attributes\":{\"source\":{\"id\":\"23162\"}},\"id\":\"23169\",\"type\":\"CDSView\"},{\"attributes\":{},\"id\":\"23139\",\"type\":\"BasicTickFormatter\"},{\"attributes\":{\"line_color\":\"magenta\",\"line_width\":2,\"x\":{\"field\":\"x\"},\"y\":{\"field\":\"y\"}},\"id\":\"23165\",\"type\":\"Line\"},{\"attributes\":{},\"id\":\"23208\",\"type\":\"UnionRenderers\"},{\"attributes\":{\"data\":{\"f '(t)\":{\"__ndarray__\":\"gqwtFrzjxD9hrowrS1i+P2hWCSdj8LI/aD587naTnz+4fs4CxM+DvwTUMuqFxae/UfIuuP8UtL/1vdtssdq6v5m/I8TeBMC/IeJoFHvCwb9S27ByZJ7Cv5khryzHl8K/dLM3Vry0wb8JbhLtEALAv8Uetfy8Jbu/tLP4RvD/tL8G0MI5v5yrv60x7SDHU5e/0oDqXh8RhT8tmt7O/JCmP1qvD1nLzbM/dE2wbhbiuz9Iz9XKCpzBPxAD/lKyw8Q/qlOkolBHxz+88JxNrArJP/htHM7c9sk/+25mGQD7yT8SATqwxwzJP3Twr0DZKMc/BsHAEgBTxD9tYAWvLZbAP8+8RuGSCLg/+yw53j/Xqj8QSzXklSh5P+Y1IcYcdqa/jIr5V6esuL+TZGiCcTXDvyC+WeXbDMq/d23NmrJW0L/gN+2g93PTvwumEYlTR9a/NDlFGB672L9jgwW4hbvavx829rsaN9y/1xvX6Ewf3b9CZzfv12jdvxdFgfUbDN2/U+YnyV8F3L+Mje/a+lTavwWb+cJl/9e/QjOrqjAN1b/qLaeg34rRvzI9jQNbEcu/ovwnim00wr8XMdlQOFixv6BKW85aWIU/KNeESCw1tz/2qrKEn+rFP/bY++jyBdA/Z3lGzV/i1D+PQBTNeG7ZP/3aql+Cj90/lpAEj2OW4D+R39tlGBjiP3WS001pQ+M/Xf+QorAQ5D8ddJL1SnrkP7SS6ay8fOQ/J26N18oW5D/xoKyQhknjP7o9iJ5KGOI/2ki3TquI4D8irErOsUTdP99wJa3q3dg/eduEPbzz0z8olY/vrj/NP45FVDmg/ME/G5hUP9hnqT+RwXhH8amlvwwKCwggEsG/JDEoCAVfzL9dYpBVpIrTvxq1G903fti/ulRl41Xw3L9DYaQFAWXgv8it1sfW++G/TaihmtI0479FNPnuMwrkvwtTut5xeOS/cIhIZkx+5L/rqGnfzxzkv0lRrLRKV+O/qSQSmjUz4r+8HxjrDrjgvyZh/zpU3t2/JWDwAunG2b9lJlySYULVv+9odBNWa9C/gHxLUpy7xr98Fw5PWdq4vwCpMRYjKZG/D615a4GPrz8+PrVfv3fBPyp1XK4MZMo/WX2GUpo90T/uPLCTvsrUP+jt6uHvyNc/Pb9w5lsr2j+OxWk9IOnbP8RYkDBw/dw/26puY6Bn3T+90K1fGCvdP0IqQ5YqT9w/sv47DNTe2j/Z/W+DZejYP1azsXwYfdY/GIyn7pKw0z9+CTf3XJjQP7ANbUWYlso/Nay3Q9DBwz/tAWmwM8O5P9j77rdykKg/YCDnE3KvYr/FHVQelwmpv551UC9OPbe/7tFM3YpAwL//RMLOEw/Ev/i80zPQ98a/lnKGND7vyL/mb3gpAPHJv7LqE9/f/8m/BNnTAKElyb8UV7sjpHLHv+osqh5d/cS/Z7WBhKDhwb/sVlY/mn+8vynEfnOud7S/U9t/+/Dwp7+8aMhcXo6Kv9+bzn/cr5Q/pN4IyWBkqj9ehyITQXa0P6v6Zc6us7o/RPR2Nxyuvz/WQNhhhJnBP2zafgemjcI/RB3wQiGmwj8W3uqlUdzBP4gAIsF8MMA/nfqRer1Tuz8eW/7bDK20P4yYw5UGLKk/0OaH17wdij90+b8dcCicvyQyM1G+CrK/dWNozlxuvb9UH2yXE3DEvw==\",\"dtype\":\"float64\",\"order\":\"little\",\"shape\":[158]},\"t\":{\"__ndarray__\":\"XjhVKXpqL8D40e7CEwQvwJJriFytnS7ALAUi9kY3LsDGnruP4NAtwGA4VSl6ai3A+tHuwhMELcCUa4hcrZ0swC4FIvZGNyzAyJ67j+DQK8BiOFUpemorwPzR7sITBCvAlmuIXK2dKsAwBSL2RjcqwMqeu4/g0CnAZDhVKXpqKcD+0e7CEwQpwJhriFytnSjAMgUi9kY3KMDMnruP4NAnwGY4VSl6aifAANLuwhMEJ8Caa4hcrZ0mwDQFIvZGNybAzp67j+DQJcBoOFUpemolwALS7sITBCXAnGuIXK2dJMA2BSL2RjckwNCeu4/g0CPAajhVKXpqI8AE0u7CEwQjwJ5riFytnSLAOAUi9kY3IsDSnruP4NAhwGw4VSl6aiHABtLuwhMEIcCga4hcrZ0gwDoFIvZGNyDAqD13H8GhH8DccKpS9NQewBCk3YUnCB7ARNcQuVo7HcB4CkTsjW4cwKw9dx/BoRvA4HCqUvTUGsAUpN2FJwgawEjXELlaOxnAfApE7I1uGMCwPXcfwaEXwORwqlL01BbAGKTdhScIFsBM1xC5WjsVwIAKROyNbhTAtD13H8GhE8DocKpS9NQSwByk3YUnCBLAUNcQuVo7EcCECkTsjW4QwHB77j6CQw/A2OFUpeipDcBASLsLTxAMwKiuIXK1dgrAEBWI2BvdCMB4e+4+gkMHwODhVKXoqQXASEi7C08QBMCwriFytXYCwBgViNgb3QDAAPfcfQSH/r/Qw6lK0VP7v6CQdheeIPi/cF1D5Grt9L9AKhCxN7rxvyDuufsIDu2/wIdTlaKn5r9gIe0uPEHgvwB2DZGrtdO/AKUCEXuju78AjjAiuI+3P0DwWNW6sNI/AL0lood93z/gRHk3KiXmP0Cr352Qi+w/0Agjgvt48T8APFa1Lqz0PzBviehh3/c/YKK8G5US+z+Q1e9OyEX+P2CEEcF9vABA+B2rWhdWAkCQt0T0sO8DQChR3o1KiQVAwOp3J+QiB0BYhBHBfbwIQPAdq1oXVgpAiLdE9LDvC0AgUd6NSokNQLjqdyfkIg9AKMKI4D5eEED0jlWtCysRQMBbInrY9xFAjCjvRqXEEkBY9bsTcpETQCTCiOA+XhRA8I5VrQsrFUC8WyJ62PcVQIgo70alxBZAVPW7E3KRF0AgwojgPl4YQOyOVa0LKxlAuFsietj3GUCEKO9GpcQaQFD1uxNykRtAHMKI4D5eHEDojlWtCysdQLRbInrY9x1AgCjvRqXEHkBM9bsTcpEfQAxhRHAfLyBAcseq1oWVIEDYLRE97PsgQD6Ud6NSYiFApPrdCbnIIUAKYURwHy8iQHDHqtaFlSJA1i0RPez7IkA8lHejUmIjQKL63Qm5yCNACGFEcB8vJEBux6rWhZUkQNQtET3s+yRAOpR3o1JiJUCg+t0JucglQAZhRHAfLyZAbMeq1oWVJkDSLRE97PsmQDiUd6NSYidAnvrdCbnIJ0AEYURwHy8oQGrHqtaFlShA0C0RPez7KEA2lHejUmIpQJz63Qm5yClAAmFEcB8vKkBox6rWhZUqQM4tET3s+ypANJR3o1JiK0Ca+t0JucgrQABhRHAfLyxAZseq1oWVLEDMLRE97PssQDKUd6NSYi1AmPrdCbnILUD+YERwHy8uQGTHqtaFlS5Ayi0RPez7LkAwlHejUmIvQA==\",\"dtype\":\"float64\",\"order\":\"little\",\"shape\":[158]}},\"selected\":{\"id\":\"23142\"},\"selection_policy\":{\"id\":\"23156\"}},\"id\":\"23141\",\"type\":\"ColumnDataSource\"},{\"attributes\":{},\"id\":\"23114\",\"type\":\"BasicTicker\"},{\"attributes\":{\"children\":[{\"id\":\"23104\"}],\"margin\":[0,0,0,0],\"name\":\"Row16259\",\"sizing_mode\":\"fixed\"},\"id\":\"23097\",\"type\":\"Row\"},{\"attributes\":{\"text_align\":{\"value\":\"center\"},\"text_alpha\":{\"value\":0.1},\"text_baseline\":{\"value\":\"middle\"},\"text_color\":{\"value\":\"black\"},\"text_font_size\":{\"value\":\"12Pt\"},\"x\":{\"field\":\"x\"},\"y\":{\"field\":\"y\"}},\"id\":\"23188\",\"type\":\"Text\"},{\"attributes\":{\"data\":{\"text\":[\"dt = 0.2000\"],\"x\":[-10],\"y\":[0.6]},\"selected\":{\"id\":\"23185\"},\"selection_policy\":{\"id\":\"23208\"}},\"id\":\"23184\",\"type\":\"ColumnDataSource\"},{\"attributes\":{},\"id\":\"23140\",\"type\":\"AllLabels\"},{\"attributes\":{},\"id\":\"23142\",\"type\":\"Selection\"},{\"attributes\":{\"data\":{\"x\":{\"__ndarray__\":\"XjhVKXpqL8D40e7CEwQvwJJriFytnS7ALAUi9kY3LsDGnruP4NAtwGA4VSl6ai3A+tHuwhMELcCUa4hcrZ0swC4FIvZGNyzAyJ67j+DQK8BiOFUpemorwPzR7sITBCvAlmuIXK2dKsAwBSL2RjcqwMqeu4/g0CnAZDhVKXpqKcD+0e7CEwQpwJhriFytnSjAMgUi9kY3KMDMnruP4NAnwGY4VSl6aifAANLuwhMEJ8Caa4hcrZ0mwDQFIvZGNybAzp67j+DQJcBoOFUpemolwALS7sITBCXAnGuIXK2dJMA2BSL2RjckwNCeu4/g0CPAajhVKXpqI8AE0u7CEwQjwJ5riFytnSLAOAUi9kY3IsDSnruP4NAhwGw4VSl6aiHABtLuwhMEIcCga4hcrZ0gwDoFIvZGNyDAqD13H8GhH8DccKpS9NQewBCk3YUnCB7ARNcQuVo7HcB4CkTsjW4cwKw9dx/BoRvA4HCqUvTUGsAUpN2FJwgawEjXELlaOxnAfApE7I1uGMCwPXcfwaEXwORwqlL01BbAGKTdhScIFsBM1xC5WjsVwIAKROyNbhTAtD13H8GhE8DocKpS9NQSwByk3YUnCBLAUNcQuVo7EcCECkTsjW4QwHB77j6CQw/A2OFUpeipDcBASLsLTxAMwKiuIXK1dgrAEBWI2BvdCMB4e+4+gkMHwODhVKXoqQXASEi7C08QBMCwriFytXYCwBgViNgb3QDAAPfcfQSH/r/Qw6lK0VP7v6CQdheeIPi/cF1D5Grt9L9AKhCxN7rxvyDuufsIDu2/wIdTlaKn5r9gIe0uPEHgvwB2DZGrtdO/AKUCEXuju78AjjAiuI+3P0DwWNW6sNI/AL0lood93z/gRHk3KiXmP0Cr352Qi+w/0Agjgvt48T8APFa1Lqz0PzBviehh3/c/YKK8G5US+z+Q1e9OyEX+P2CEEcF9vABA+B2rWhdWAkCQt0T0sO8DQChR3o1KiQVAwOp3J+QiB0BYhBHBfbwIQPAdq1oXVgpAiLdE9LDvC0AgUd6NSokNQLjqdyfkIg9AKMKI4D5eEED0jlWtCysRQMBbInrY9xFAjCjvRqXEEkBY9bsTcpETQCTCiOA+XhRA8I5VrQsrFUC8WyJ62PcVQIgo70alxBZAVPW7E3KRF0AgwojgPl4YQOyOVa0LKxlAuFsietj3GUCEKO9GpcQaQFD1uxNykRtAHMKI4D5eHEDojlWtCysdQLRbInrY9x1AgCjvRqXEHkBM9bsTcpEfQAxhRHAfLyBAcseq1oWVIEDYLRE97PsgQD6Ud6NSYiFApPrdCbnIIUAKYURwHy8iQHDHqtaFlSJA1i0RPez7IkA8lHejUmIjQKL63Qm5yCNACGFEcB8vJEBux6rWhZUkQNQtET3s+yRAOpR3o1JiJUCg+t0JucglQAZhRHAfLyZAbMeq1oWVJkDSLRE97PsmQDiUd6NSYidAnvrdCbnIJ0AEYURwHy8oQGrHqtaFlShA0C0RPez7KEA2lHejUmIpQJz63Qm5yClAAmFEcB8vKkBox6rWhZUqQM4tET3s+ypANJR3o1JiK0Ca+t0JucgrQABhRHAfLyxAZseq1oWVLEDMLRE97PssQDKUd6NSYi1AmPrdCbnILUD+YERwHy8uQGTHqtaFlS5Ayi0RPez7LkAwlHejUmIvQA==\",\"dtype\":\"float64\",\"order\":\"little\",\"shape\":[158]},\"y\":{\"__ndarray__\":\"XCHzIHQJsj/k12z4hFm+P+jpYMvP/7I/4DI4/14DoD+AMZ84T4eCv5ArHlXjXae/UNOH6izYs78YBoa32Ja6v/BGq94Gwb+/8tp2U9Ocwb9Srtl1mXjCv7q69a4Ac8K/179DlhiSwb+0rnTXOcW/vxLjlmwd77q/TIiZ1EPTtL/4tSMsDlqrv3IrAgfq/5a/yh6w1DtQhT8i09o/94WmP0HSROfxurM/AnZ/H1jCuz+zg23JIYbBP4v5hBRVqMQ/BOql8T0nxz8smuUtx+bIPwxs+40m0Mk/Lq99j5HSyT8Q8BvSyePIP9RW60J9AMc/sBwgRncsxD9Y95xQoXLAP9B/hkWlybc/YGsgY8Btqj8ATFhKyJt2PyAVDHPbrKa/mCaJy3O5uL/QIT+XKjTDv/Cv5Uy2A8q/THqMvjFO0L/qBvlRpGfTv0AlK1tjN9a/rpaXit+n2L+QtzGFXqXav8EVJ4+FHty/UPLKhdYE3b9tM8jeG03dvwSEYsvA79y/YMM7GhPp278I9Kv9bDnav0hUynRF5de/aFMHtib11L/MMKifinXRv0ii67A77cq/cE+12tUXwr8Aa7lNvS+xvwAYIFtnDIY/QEsLOtg4tz9YoPI81OLFP1hDyFx8+s8/JOS7g/rU1D+Qq8YCnlzZPyCxPX+Ied0/jtN7DI+J4D83iuzRrwniP2YwSi26M+M/hujxuRAA5D/4N99PFmnkP2ZtdHlTa+Q/kbQCLI8F5D9c1S8d2jjjP5buIGKMCOI/Ko1OWjV64D8k9P55/CrdPxALB+f/x9g/2EOzchri0z+A2AQSySXNP+Dk/uWt7ME/QKRIaE5RqT+AFj4duZalv/DrsFH9AsG/IKZmSOVFzL9giXKeXnnTvxQ7XR6gaNi/6Jv+r+jW3L+y9XLiqFbgv/gPTXcv7OG/4BxHsTUk4784ZAkcAPnjv62f5rAIZ+S/nq3IABBt5L9u/5itIAzkv/6AcyqFR+O/A7wFD7Ak4r+gkoWdF6vgvyRBQNMKyN2/GB9jr7a02b+ULnDZnjTVv7RiXj5AYtC/WG/iFwyzxr+QwMEcf9y4vwCOWxBEfZG/AMM9FlNBrz/Y4KvXylvBPxglmBx+QMo/pKW464Io0T80OEon5rLUP/D8IQ30rtc//M87y+QP2j/IUoxI3MzbP5gF8cAP4dw/pjyCbtFL3T+ZO7UughDdP05CYLdpNtw/yg35kHbI2j8eTEyk59TYP1dcpbbhbNY/8N1srPOj0z9wh5PUjI/QP8RRIajRjMo/bD98DOq/wz9A1swtzc65P2AslFDyxKg/AEDV5+hsW7/AL8Fr36GovxCSDPQd/7a/AKR4uEcdwL9oadgmvejDv2B5AEiOz8a/QBaI/UHGyL8CbfQqe8jJv1aEzgH82Mm/3jF8q3gByb/CQEPGOlLHvzzLFWGY4cS/m+bSRULLwb/7W0fY3F68v6RHnLLIY7S/vOdN1cfjp7+koUxo/8SKvy/thosUYJQ/HOJHD5cjqj+PeVesb0q0P73x2VjLfbo/9njw4stvvz+k+WkDGHfBP6RDK8QAacI/EO5dQWCAwj+UuHYqnLbBPwYuWyr8C8A/4NSU12wPuz84oOWal2+0P6DFGy/Swqg/wF/UM/bNiD+AOjsTzZ+cv1hiOs9EG7K/aB2pWr1wvb8Q1z6t2ZSxvw==\",\"dtype\":\"float64\",\"order\":\"little\",\"shape\":[158]}},\"selected\":{\"id\":\"23163\"},\"selection_policy\":{\"id\":\"23179\"}},\"id\":\"23162\",\"type\":\"ColumnDataSource\"},{\"attributes\":{},\"id\":\"23179\",\"type\":\"UnionRenderers\"},{\"attributes\":{\"end\":15.692036732050923,\"reset_end\":15.692036732050923,\"reset_start\":-15.707963267948966,\"start\":-15.707963267948966,\"tags\":[[[\"t\",\"t\",null]]]},\"id\":\"23100\",\"type\":\"Range1d\"},{\"attributes\":{},\"id\":\"23111\",\"type\":\"LinearScale\"},{\"attributes\":{\"children\":[{\"id\":\"23096\"},{\"id\":\"23097\"}],\"margin\":[0,0,0,0],\"name\":\"Column16334\"},\"id\":\"23095\",\"type\":\"Column\"},{\"attributes\":{\"axis\":{\"id\":\"23113\"},\"coordinates\":null,\"grid_line_color\":null,\"group\":null,\"ticker\":null},\"id\":\"23116\",\"type\":\"Grid\"},{\"attributes\":{\"text_align\":{\"value\":\"center\"},\"text_alpha\":{\"value\":0.2},\"text_baseline\":{\"value\":\"middle\"},\"text_color\":{\"value\":\"black\"},\"text_font_size\":{\"value\":\"12Pt\"},\"x\":{\"field\":\"x\"},\"y\":{\"field\":\"y\"}},\"id\":\"23189\",\"type\":\"Text\"},{\"attributes\":{\"line_color\":\"gray\",\"line_dash\":[4,4],\"line_width\":2,\"x\":{\"field\":\"t\"},\"y\":{\"field\":\"f '(t)\"}},\"id\":\"23144\",\"type\":\"Line\"},{\"attributes\":{\"angle\":{\"value\":0.0},\"text\":{\"field\":\"text\"},\"text_align\":{\"value\":\"center\"},\"text_alpha\":{\"value\":1.0},\"text_baseline\":{\"value\":\"middle\"},\"text_color\":{\"value\":\"black\"},\"text_font_size\":{\"value\":\"12Pt\"},\"text_font_style\":{\"value\":\"normal\"},\"text_line_height\":{\"value\":1.2},\"x\":{\"field\":\"x\"},\"x_offset\":{\"value\":0},\"y\":{\"field\":\"y\"},\"y_offset\":{\"value\":0}},\"id\":\"23192\",\"type\":\"Text\"}],\"root_ids\":[\"23095\",\"23253\"]},\"title\":\"Bokeh Application\",\"version\":\"2.4.3\"}};\n",
       "    var render_items = [{\"docid\":\"09c92609-730c-45dc-89f3-93158422f1a6\",\"root_ids\":[\"23095\"],\"roots\":{\"23095\":\"e6d02753-0aa8-49ed-bd87-bf349654ce3f\"}}];\n",
       "    root.Bokeh.embed.embed_items_notebook(docs_json, render_items);\n",
       "    for (const render_item of render_items) {\n",
       "      for (const root_id of render_item.root_ids) {\n",
       "\tconst id_el = document.getElementById(root_id)\n",
       "\tif (id_el.children.length && (id_el.children[0].className === 'bk-root')) {\n",
       "\t  const root_el = id_el.children[0]\n",
       "\t  root_el.id = root_el.id + '-rendered'\n",
       "\t}\n",
       "      }\n",
       "    }\n",
       "  }\n",
       "  if (root.Bokeh !== undefined && root.Bokeh.Panel !== undefined) {\n",
       "    embed_document(root);\n",
       "  } else {\n",
       "    var attempts = 0;\n",
       "    var timer = setInterval(function(root) {\n",
       "      if (root.Bokeh !== undefined && root.Bokeh.Panel !== undefined) {\n",
       "        clearInterval(timer);\n",
       "        embed_document(root);\n",
       "      } else if (document.readyState == \"complete\") {\n",
       "        attempts++;\n",
       "        if (attempts > 200) {\n",
       "          clearInterval(timer);\n",
       "          console.log(\"Bokeh: ERROR: Unable to run BokehJS code because BokehJS library is missing\");\n",
       "        }\n",
       "      }\n",
       "    }, 25, root)\n",
       "  }\n",
       "})(window);</script>"
      ],
      "text/plain": [
       "Column\n",
       "    [0] FloatSlider(end=2.0, name='dt', start=0.2, value=0.2)\n",
       "    [1] ParamFunction(function, _pane=HoloViews)"
      ]
     },
     "execution_count": 146,
     "metadata": {
      "application/vnd.holoviews_exec.v0+json": {
       "id": "23095"
      }
     },
     "output_type": "execute_result"
    }
   ],
   "source": [
    "dt_select = pn.widgets.FloatSlider(\n",
    "    name='dt', \n",
    "    start=0.2, end=2.0,\n",
    "    step=0.1,\n",
    "    value=0.2\n",
    ")\n",
    "\n",
    "@pn.depends(_dx=dt_select)\n",
    "def plot(_dx):\n",
    "    ## estimated\n",
    "    x = np.arange(-L/2, L/2, _dx)\n",
    "    f_prime = np.cos(x/8) * np.cos(x/1.5)\n",
    "    estimated_df = np.convolve(\n",
    "        np.pad(f_prime, 1, mode='edge'), \n",
    "        np.array( [1, 0, -1] ) / (2 * _dx), \n",
    "        mode='same')[1:-1]\n",
    "    disp = \\\n",
    "        hv.Curve(zip(t, true_df), \"t\", \"f '(t)\", label=\"TRUE f '(t)\").opts(color='gray', line_dash=(4, 4)) *\\\n",
    "        hv.Curve(zip(x, estimated_df), label=\"EST f '(t)\").opts(color='magenta') * \\\n",
    "        hv.Text(-10, 0.6, f\"dt = {_dx:.4f}\")\n",
    "    return disp.opts(\n",
    "        hv.opts.Curve( height=300, width=600, )\n",
    "    )\n",
    "\n",
    "disp = pn.Column(\n",
    "    dt_select, \n",
    "    plot)\n",
    "\n",
    "disp.servable('Effects of dx on Finite Difference Derivative')"
   ]
  }
 ],
 "metadata": {
  "kernelspec": {
   "display_name": "users-users-pangeo",
   "language": "python",
   "name": "conda-env-users-users-pangeo-py"
  },
  "language_info": {
   "codemirror_mode": {
    "name": "ipython",
    "version": 3
   },
   "file_extension": ".py",
   "mimetype": "text/x-python",
   "name": "python",
   "nbconvert_exporter": "python",
   "pygments_lexer": "ipython3",
   "version": "3.9.16"
  },
  "vscode": {
   "interpreter": {
    "hash": "d7ebce313f85fb1ac8949e834c83f371584cb2422d845bf1570c1220fdedc716"
   }
  }
 },
 "nbformat": 4,
 "nbformat_minor": 5
}
