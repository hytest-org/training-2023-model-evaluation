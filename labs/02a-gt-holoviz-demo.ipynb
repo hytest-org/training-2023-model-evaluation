{
 "cells": [
  {
   "cell_type": "markdown",
   "id": "c23cabac-5a21-48d0-b7b1-e36671f0a718",
   "metadata": {},
   "source": [
    "# Gene's Visualization Examples\n"
   ]
  },
  {
   "cell_type": "markdown",
   "id": "b7799528-70eb-43ef-92bf-dc76b731ed79",
   "metadata": {
    "tags": []
   },
   "source": [
    "## Preamble: Load Required Python Libraries"
   ]
  },
  {
   "cell_type": "code",
   "execution_count": null,
   "id": "df078209-e4e8-4429-82b4-8ac491a36686",
   "metadata": {
    "tags": []
   },
   "outputs": [],
   "source": [
    "try:\n",
    "    import os\n",
    "    from datetime import datetime\n",
    "    import numpy as np\n",
    "\n",
    "    import pandas as pd\n",
    "    import geopandas as gpd\n",
    "    from shapely.geometry import Point\n",
    "    import matplotlib.pyplot as plt\n",
    "\n",
    "    import holoviews as hv\n",
    "    import hvplot.pandas\n",
    "    import hvplot.xarray\n",
    "    import panel as pn\n",
    "    from geoviews import tile_sources as gvts\n",
    "except ImportError:\n",
    "    print(\"A required library could not be found. \")\n",
    "    raise"
   ]
  },
  {
   "cell_type": "markdown",
   "id": "5f2eb117-0843-4ba1-8c8b-518df935a156",
   "metadata": {},
   "source": [
    "## Foreshadowing\n",
    "You've seen some plots already as a part of data exploration.  We're going to look at how some of those might be made using `hvplot`.. but we're going to start at the beginning and work toward it.  Here's the flow: \n",
    "* Plotting methods you may already know (`matplotlib` or `seaborn`)\n",
    "* How typical plots in `hvplot` differ\n",
    "  * Structuring Data\n",
    "  * Interactivity\n",
    "* Designing x-y plots from scratch \n",
    "* Shortcuts with structured data\n",
    "* Subplots vs shared axes\n",
    "* Adding interactivity (examples)"
   ]
  },
  {
   "cell_type": "markdown",
   "id": "3c7a3d1f-9281-4b19-81fe-55c4aee04794",
   "metadata": {},
   "source": [
    "## Reference Reading:\n",
    "* https://panel.holoviz.org/\n",
    "* https://hvplot.holoviz.org/\n",
    "* https://matplotlib.org/stable/index.html"
   ]
  },
  {
   "cell_type": "markdown",
   "id": "ecc5f3bc-04be-4779-bc05-bc3bccb48643",
   "metadata": {
    "tags": []
   },
   "source": [
    "## Example 1: Toy data for simple plots\n",
    "\n",
    "We're going to do a few simplified x-y scatter and line plots.  Just to make that simple, let's make \n",
    "a couple of variables to plot\n"
   ]
  },
  {
   "cell_type": "code",
   "execution_count": null,
   "id": "4ce21930-77a7-4586-bea1-e1364fbc63f4",
   "metadata": {
    "tags": []
   },
   "outputs": [],
   "source": [
    "## create a sequence of data points in x\n",
    "n = 50*np.pi  # number of sample points in the domain\n",
    "L = np.pi*10  # domain / input range over which to plot\n",
    "dt = L/n      # space between points\n",
    "\n",
    "t = np.arange(-L/2, L/2, dt) \n",
    "f_t = np.cos(t/8) * np.cos((2/3) * t) \n"
   ]
  },
  {
   "cell_type": "markdown",
   "id": "16af8c29-a8dc-4610-9626-dbfff84e90bc",
   "metadata": {},
   "source": [
    "So now we have two arrays of numbers.\n",
    "\n",
    "\n",
    "$$\n",
    "f(t) = cos\\Big(\\frac{t}{8}\\Big) \\; cos\\Big(\\frac{2 t}{3}\\Big)\n",
    "$$\n",
    "\n",
    "and\n",
    "\n",
    "$$\n",
    "t = \\big[  -5\\pi , 5\\pi \\big]\n",
    "$$ \n",
    "\n",
    "Let's see the raw numbers: \n"
   ]
  },
  {
   "cell_type": "code",
   "execution_count": null,
   "id": "cddb0d49-ab11-4b27-81c8-9c8fee8088c6",
   "metadata": {
    "tags": []
   },
   "outputs": [],
   "source": [
    "t[0:10] # just the first few elements"
   ]
  },
  {
   "cell_type": "code",
   "execution_count": null,
   "id": "6f9179ba-45e1-4a56-81e3-c0f692214eaf",
   "metadata": {
    "tags": []
   },
   "outputs": [],
   "source": [
    "f_t[0:10]"
   ]
  },
  {
   "cell_type": "markdown",
   "id": "d8d841c7-e63f-4eb6-9742-5519d7e2c97d",
   "metadata": {},
   "source": [
    "So we now have two lists of numbers representing some data. \n",
    "\n",
    "We'll create a few simple scatter plots where $t$ is the horizontal axis, and $f(t)$ is the vertical axis."
   ]
  },
  {
   "cell_type": "markdown",
   "id": "e924a78e-9216-4b2e-a6fc-b7085eba5001",
   "metadata": {},
   "source": [
    "### Example 1a: Plot Using `matplotlib`"
   ]
  },
  {
   "cell_type": "code",
   "execution_count": null,
   "id": "e0c439ac-c201-40f1-939a-478404780d0f",
   "metadata": {
    "tags": []
   },
   "outputs": [],
   "source": [
    "# using matplotlib's pyplot: \n",
    "plt.plot(t, f_t)\n",
    "plt.show()"
   ]
  },
  {
   "cell_type": "code",
   "execution_count": null,
   "id": "5d9829b2-9445-453d-a67e-7de02a9547a4",
   "metadata": {},
   "outputs": [],
   "source": []
  },
  {
   "cell_type": "markdown",
   "id": "27030c70-0d36-41e7-b264-842a396a13d0",
   "metadata": {},
   "source": [
    "The `matplotlib` plotting library has a long history of making charts and graphs in python. You may have used it before to make figures for publications and whatnot.  \n",
    "\n",
    "Matplotlib was designed for making static figures (as PNGs), and they are adding interactivity as an afterthought. "
   ]
  },
  {
   "cell_type": "markdown",
   "id": "d3bbccb0-714a-463d-a14d-2021264b6ac6",
   "metadata": {},
   "source": [
    "### Example 1b: Plot using `hvplot`\n",
    "This plotting library borrows heavily from javascript plotting libraries\n",
    "which are primarily designed for interactivity. They are an excellent match\n",
    "for jupyter notebooks. \n"
   ]
  },
  {
   "cell_type": "code",
   "execution_count": null,
   "id": "d90ab88c-1442-4dee-a93f-1bb968920dd6",
   "metadata": {
    "tags": []
   },
   "outputs": [],
   "source": [
    "## hv.extension('bokeh')\n",
    "hv.Curve( \n",
    "        zip(t, f_t),\n",
    "        label=\"f(t)\"\n",
    "    ).opts(height=300, width=600, color='red') "
   ]
  },
  {
   "cell_type": "markdown",
   "id": "fb1a8ef3-4357-41fa-9877-08f9764d621a",
   "metadata": {},
   "source": [
    "Note that the data is passed to the plotting routine differently.  Rather than \n",
    "passing in two vectors of matching data values (what `matplotlib` requires), we\n",
    "will pass in a list of 2-tuples with the points matched within the tuple. \n",
    "\n",
    "The python  built-in `zip` operator will merge `t` and `f(t)` together.  We need \n",
    "the data in this form so that `hvplot` will plot the points correctly. "
   ]
  },
  {
   "cell_type": "code",
   "execution_count": null,
   "id": "e367e57f-8bcb-4406-8c13-30a5a503d3fa",
   "metadata": {
    "tags": []
   },
   "outputs": [],
   "source": [
    "list( zip(t, f_t)  )[0:10] ## just the first several points\n"
   ]
  },
  {
   "cell_type": "markdown",
   "id": "834f6c7d-fc21-4fca-81f9-b8e95f9ab100",
   "metadata": {},
   "source": [
    "## Example 2: Combining Plots\n",
    "\n",
    "It is much easier with `hvplot` than in `matplotlib` or `plotly`.... The plot elements have been imlemented with **operator overloading** so that infix operators like `+` and `*` have meaning specific to those plot objects. \n",
    "\n",
    "Let's do some light calculus here to get a few extra bits of data to plot. This is just a contrived example to get some data -- nothing special about this function or its derivative.... we're just having fun here. \n"
   ]
  },
  {
   "cell_type": "code",
   "execution_count": null,
   "id": "8e1f5be6-cc65-4594-a5c8-162f9d139b98",
   "metadata": {
    "tags": []
   },
   "outputs": [],
   "source": [
    "true_df = (np.cos(t/8) * -(np.sin(t/1.5)/1.5)) + (np.cos(t/1.5) * -np.sin(t/8)/8)\n"
   ]
  },
  {
   "cell_type": "code",
   "execution_count": null,
   "id": "8fcc873c-8a71-46a3-9cf3-c37b898585ed",
   "metadata": {
    "tags": []
   },
   "outputs": [],
   "source": [
    "f_curve     = hv.Curve(zip(t, f_t),     label=\"f(t)\"  ).opts(color='black')\n",
    "f_dot_curve = hv.Curve(zip(t, true_df), label=\"f '(t)\").opts(color='gray', line_dash=(4,4))\n"
   ]
  },
  {
   "cell_type": "markdown",
   "id": "453fe41f-734a-42d5-b392-682cef3ed3f5",
   "metadata": {},
   "source": [
    "Note here that we did not display the curves, but rather assigned the plots to variables. We can display them individually: \n"
   ]
  },
  {
   "cell_type": "code",
   "execution_count": null,
   "id": "fa4d812e-6fb5-4b88-902f-f8512f4e3088",
   "metadata": {
    "tags": []
   },
   "outputs": [],
   "source": [
    "display(f_curve)\n"
   ]
  },
  {
   "cell_type": "code",
   "execution_count": null,
   "id": "18782670-428f-45e5-8638-d9f1c13b911f",
   "metadata": {
    "tags": []
   },
   "outputs": [],
   "source": [
    "display(f_dot_curve)"
   ]
  },
  {
   "cell_type": "markdown",
   "id": "f6ae042f-ded9-49ca-a7ec-c9f63d0f4ff8",
   "metadata": {},
   "source": [
    "...Or we can combine them... note the operators:"
   ]
  },
  {
   "cell_type": "code",
   "execution_count": null,
   "id": "3623b11a-9ee0-48d6-8d90-c1e210e0920d",
   "metadata": {
    "tags": []
   },
   "outputs": [],
   "source": [
    "fig = f_curve + f_dot_curve\n",
    "\n",
    "display(fig)"
   ]
  },
  {
   "cell_type": "code",
   "execution_count": null,
   "id": "368fdd22-3987-4358-94f9-a386aa386d40",
   "metadata": {
    "tags": []
   },
   "outputs": [],
   "source": [
    "fig = (f_curve * f_dot_curve)\n",
    "display(\n",
    "    fig.opts(height=300, width=600)\n",
    ")"
   ]
  },
  {
   "cell_type": "markdown",
   "id": "b904d3c6-5e6d-4aa0-afa8-51e3223dc233",
   "metadata": {},
   "source": [
    "### Example 2a: 3 or more plots"
   ]
  },
  {
   "cell_type": "code",
   "execution_count": null,
   "id": "f4f1c7a5-2cba-4e37-800e-f32a8dc4071d",
   "metadata": {
    "tags": []
   },
   "outputs": [],
   "source": [
    "f_dot_finite_difference = hv.Curve(zip(t, np.diff(f_t)/dt), label=\"finite diff\").opts(color='magenta', line_dash=(2,2))\n",
    "\n",
    "fig = f_dot_finite_difference * f_curve * f_dot_curve \n",
    "fig.opts(\n",
    "    hv.opts.Curve( height=300, width=600)\n",
    ")"
   ]
  },
  {
   "cell_type": "code",
   "execution_count": null,
   "id": "6f243938-7149-4085-9823-b23ed251e3a8",
   "metadata": {
    "tags": []
   },
   "outputs": [],
   "source": [
    "fig = f_curve + (f_dot_curve * f_dot_finite_difference)\n",
    "\n",
    "fig.opts(\n",
    "    hv.opts.Curve( height=300, width=500)\n",
    ")"
   ]
  },
  {
   "cell_type": "markdown",
   "id": "138ffc8b-780e-4deb-a5c6-0fff16c6a1ef",
   "metadata": {},
   "source": [
    "## Example 3: Structured Data\n",
    "\n",
    "One of the most powerful features of `hvplot` is that it 'understands' data structures like \n",
    "pandas dataframes and xarray datasets.   For example, let's look at some streamflow gage data: "
   ]
  },
  {
   "cell_type": "code",
   "execution_count": null,
   "id": "f24fffe0-255a-4796-8560-b70c73025a68",
   "metadata": {
    "tags": []
   },
   "outputs": [],
   "source": [
    "import intake\n",
    "cat = intake.open_catalog(r'https://raw.githubusercontent.com/hytest-org/hytest/main/dataset_catalog/hytest_intake_catalog.yml')\n",
    "obs_data_src='nwis-streamflow-usgs-gages-cloud'\n",
    "mod_data_src='nwm21-streamflow-usgs-gages-cloud'\n",
    "variable_of_interest = 'streamflow'\n",
    "try:\n",
    "    obs = cat[obs_data_src].to_dask()\n",
    "    mod = cat[mod_data_src].to_dask()\n",
    "except KeyError:\n",
    "    print(\"Something wrong with dataset names.\")\n",
    "    raise\n",
    "start=datetime.strptime(\"01 01 18\", '%d %m %y')\n",
    "end=datetime.strptime(\"31 12 20\", '%d %m %y')\n",
    "\n"
   ]
  },
  {
   "cell_type": "markdown",
   "id": "b02890af-60b2-4399-b027-9a764687212c",
   "metadata": {},
   "source": [
    "We now have two datasets, one for `modeled` data: "
   ]
  },
  {
   "cell_type": "code",
   "execution_count": null,
   "id": "56daaebb-d5aa-4b3e-a66c-0c207624e441",
   "metadata": {
    "tags": []
   },
   "outputs": [],
   "source": [
    "mod"
   ]
  },
  {
   "cell_type": "markdown",
   "id": "2251b2ec-d0c6-4493-a02b-b6dfeb8e592a",
   "metadata": {},
   "source": [
    "And one for observed data"
   ]
  },
  {
   "cell_type": "code",
   "execution_count": null,
   "id": "5f6e75ce-ce5e-4eaf-a614-020a9d98d7da",
   "metadata": {
    "tags": []
   },
   "outputs": [],
   "source": [
    "obs"
   ]
  },
  {
   "cell_type": "markdown",
   "id": "706bfb2c-2e4e-4aa0-97f9-f728fe3b006f",
   "metadata": {},
   "source": [
    "This data is already structured, meaning there are natual associations between time values and \n",
    "the values within the `streamflow` variable.  `hvplot` knows how to deal with this, so\n",
    "we **don't** have to construct a time vector and a data vector, pair them, and hand the 2-tuples\n",
    "to the plotting routine.  We can just ask the xarray data structure to figure it all out and \n",
    "generate a figure on its own.  It will usually pick useful defaults: "
   ]
  },
  {
   "cell_type": "code",
   "execution_count": null,
   "id": "d8919886-f62a-4e0e-addc-d39bc8fa7c43",
   "metadata": {
    "tags": []
   },
   "outputs": [],
   "source": [
    "g = 'USGS-13317000'\n",
    "obs['streamflow'].sel(gage_id=g).hvplot()"
   ]
  },
  {
   "cell_type": "code",
   "execution_count": null,
   "id": "3f38b9d0-8193-43cc-a01c-c4b8260f1b23",
   "metadata": {
    "tags": []
   },
   "outputs": [],
   "source": [
    "o = obs['streamflow'].sel(gage_id=g).where(obs.time.dt.year>=2018).hvplot(label=\"observed\").opts(color='blue', line_width=0.5, xlim=(start, end)) \n",
    "\n",
    "m = mod['streamflow'].sel(gage_id=g).where(mod.time.dt.year>=2018).hvplot(label=\"modeled\").opts(color='red', line_width=0.5, xlim=(start, end)) \n"
   ]
  },
  {
   "cell_type": "code",
   "execution_count": null,
   "id": "15f56c03-f619-4974-a83e-1af69a21403c",
   "metadata": {
    "tags": []
   },
   "outputs": [],
   "source": [
    "o * m "
   ]
  },
  {
   "cell_type": "markdown",
   "id": "a12f2361-7dcd-49ea-a3d1-b4f242918a7c",
   "metadata": {},
   "source": [
    "## Example 4: Interactive Plot Generation\n",
    "We've looked at 'standard' plots where the figure itself has interactive features.  \n",
    "\n",
    "We can also move the interactivity 'up' a layer such that the plot is dynamically re-generated based on input from the user. \n",
    "\n",
    "This requires that we use another module: `panel`.  \n",
    "Panel apps can contain `hvplot` figures.  And layout can take place either at the `hvplot` level or the `panel` level.  \n",
    "\n",
    "Here's an example.... "
   ]
  },
  {
   "cell_type": "code",
   "execution_count": null,
   "id": "183fcac4-7319-4631-b7c4-c63cfe837aa3",
   "metadata": {
    "tags": []
   },
   "outputs": [],
   "source": [
    "## This is the slider that lets us select dt\n",
    "dt_select = pn.widgets.FloatSlider(\n",
    "    name='dt', \n",
    "    start=0.2, end=2.0,\n",
    "    step=0.1,\n",
    "    value=1.0\n",
    ")\n",
    "\n",
    "## This 'decorator' declares that the `plot` function depends on the value of the slider.\n",
    "@pn.depends(_dx=dt_select)\n",
    "def plot(_dx):\n",
    "    ## estimated\n",
    "    x = np.arange(-L/2, L/2, _dx)\n",
    "    f_prime = np.cos(x/8) * np.cos(x/1.5)\n",
    "    estimated_df = np.convolve(\n",
    "        np.pad(f_prime, 1, mode='edge'), \n",
    "        np.array( [1, 0, -1] ) / (2 * _dx), \n",
    "        mode='same')[1:-1]\n",
    "    fig = \\\n",
    "        hv.Curve(zip(t, true_df), \"t\", \"f '(t)\", label=\"TRUE f '(t)\").opts(color='gray', line_dash=(4, 4)) *\\\n",
    "        hv.Curve(zip(x, estimated_df), label=\"EST f '(t)\").opts(color='magenta') * \\\n",
    "        hv.Text(-10, 0.6, f\"dt = {_dx:.4f}\")\n",
    "    return fig.opts(\n",
    "        hv.opts.Curve( height=300, width=600, )\n",
    "    )\n",
    "\n",
    "## This is panel's way of arranging elements.  These two simple widgets arranged in a column.\n",
    "disp = pn.Column(\n",
    "    dt_select, \n",
    "    plot\n",
    ")\n",
    "\n",
    "disp.servable('Effects of dx on Finite Difference Derivative')"
   ]
  },
  {
   "cell_type": "markdown",
   "id": "3cbfb21c-2d3a-4b46-9b37-3d5f6f155c86",
   "metadata": {},
   "source": [
    "## Interactivity and Maps\n",
    "Using similar widgets, we can make a complicated mapping plot based on user input.  This is a good way to explore datasets. \n"
   ]
  },
  {
   "cell_type": "code",
   "execution_count": null,
   "id": "f5b31a39-5672-4569-8c65-c74b5a9ecafa",
   "metadata": {
    "tags": []
   },
   "outputs": [],
   "source": [
    "# Read some gages:\n",
    "cobalt_df = pd.read_csv(\n",
    "    'https://www.sciencebase.gov/catalog/file/get/6181ac65d34e9f2789e44897?f=__disk__22%2F1a%2Fd2%2F221ad2fe9d95de17731ad35d0fc6b417a4b53ee1',\n",
    "    dtype={'site_no':str, 'huc_cd':str, 'reachcode':str, 'comid':str, 'gagesII_class':str, 'aggecoregion': str}, \n",
    "    index_col='site_no'\n",
    "    )\n",
    "cobalt_df.rename(columns={'dec_lat_va':'Lat', 'dec_long_va':'Lon'} , inplace=True)\n",
    "# Re-format the gage_id/site_no string value.  ex:   \"1000000\"  ==> \"USGS-1000000\"\n",
    "cobalt_df.rename(index=lambda x: f'USGS-{x}', inplace=True)\n",
    "\n",
    "NWM = pd.read_csv(r'../data/NWM_v2.1_streamflow_example.csv', dtype={'site_no':str} ).set_index('site_no', drop=False)\n",
    "# Merge benchmarks with cobalt data to form a single table, indexed by site_no\n",
    "metrics = NWM.columns.tolist()[1:] #list of columns, EXCEPT the first column (site_no)\n",
    "NWM = NWM.merge(\n",
    "    cobalt_df, # Table to merge with NWM\n",
    "    how='left',            # left join preserves only records which have an index in NWM dataframe.\n",
    "    left_index=True, \n",
    "    right_index=True\n",
    "    )\n"
   ]
  },
  {
   "cell_type": "code",
   "execution_count": null,
   "id": "99af608c-a41f-49f7-8253-953a7090b3ea",
   "metadata": {
    "tags": []
   },
   "outputs": [],
   "source": [
    "var_select = pn.widgets.Select(name='Metric', options=metrics, value='pearson')\n",
    "\n",
    "base_map_select = pn.widgets.Select(name='Basemap:', \n",
    "                                    options=list(gvts.tile_sources.keys()), \n",
    "                                    value='OSM')\n",
    "\n",
    "\n",
    "@pn.depends(var=var_select, base_map=base_map_select)\n",
    "def plot(var, base_map):\n",
    "    return NWM.hvplot.points(x='Lon', y='Lat', color=var, cmap='turbo_r', geo=True, tiles=base_map)\n",
    "\n",
    "col = pn.Column(var_select, base_map_select, plot)\n",
    "col.servable('Hydro Assessment Tool')"
   ]
  },
  {
   "cell_type": "markdown",
   "id": "39695556-d954-4cd9-bef6-f0c950f91b5e",
   "metadata": {},
   "source": [
    "## Map as Selector / Combine with Time Series"
   ]
  },
  {
   "cell_type": "code",
   "execution_count": null,
   "id": "f958dc56-26d4-45a1-9388-c70c9d60a360",
   "metadata": {
    "tags": []
   },
   "outputs": [],
   "source": [
    "# Geo-Enable our cobalt data:\n",
    "import geoviews as gv\n",
    "cobalt = gpd.GeoDataFrame(\n",
    "    cobalt_df, \n",
    "    geometry=gpd.points_from_xy(cobalt_df.Lon, cobalt_df.Lat), \n",
    "    crs=\"EPSG:4326\"\n",
    ")\n",
    "gage_map = cobalt.hvplot.points(\n",
    "    geo=True, \n",
    "    color='blue',\n",
    "    marker='^',\n",
    "    size=12, \n",
    "    hover_cols=['site_no'],\n",
    ")\n",
    "pmap = (gvts.EsriTerrain * gage_map)\n",
    "pmap"
   ]
  },
  {
   "cell_type": "code",
   "execution_count": null,
   "id": "1352b6b7-62df-44df-88ba-107eb8a540a8",
   "metadata": {
    "tags": []
   },
   "outputs": [],
   "source": [
    "pn.extension()\n",
    "# create widgets to capture mouse  clicks (stream) \n",
    "clicky_ = hv.streams.Tap(source=gage_map, x=-114.5985, y=45.2986) \n",
    "\n",
    "@pn.depends(clicky_.param.x, clicky_.param.y)\n",
    "def timeseries(x, y):\n",
    "    _p = Point((x, y))\n",
    "    nearest_index = cobalt.sindex.nearest(_p)[1][0]\n",
    "    site_id = cobalt.index[nearest_index]\n",
    "    o = obs['streamflow'].sel(gage_id=site_id).where(obs.time.dt.year>=2018).hvplot(label=\"observed\").opts(color='blue', line_width=0.5, xlim=(start, end)) \n",
    "    m = mod['streamflow'].sel(gage_id=site_id).where(obs.time.dt.year>=2018).hvplot(label=\"modeled\").opts(color='red', line_width=0.5, xlim=(start, end)) \n",
    "    return (o*m).opts(width=800, height=400)\n",
    "\n",
    "@pn.depends(clicky_.param.x, clicky_.param.y)\n",
    "def location(x,y):\n",
    "    return pn.pane.Str(f'click at >>> {x:.4f}//{y:.4f}')\n",
    "\n",
    "viewer = pn.Column(location, pmap, timeseries)\n",
    "viewer"
   ]
  },
  {
   "cell_type": "code",
   "execution_count": null,
   "id": "d42be04a-94a3-4c6f-9017-b56667d556e8",
   "metadata": {},
   "outputs": [],
   "source": []
  },
  {
   "cell_type": "code",
   "execution_count": null,
   "id": "8267c105-0a0c-467e-899e-ae817f0be15f",
   "metadata": {},
   "outputs": [],
   "source": []
  }
 ],
 "metadata": {
  "kernelspec": {
   "display_name": "users-users-pangeo",
   "language": "python",
   "name": "conda-env-users-users-pangeo-py"
  },
  "language_info": {
   "codemirror_mode": {
    "name": "ipython",
    "version": 3
   },
   "file_extension": ".py",
   "mimetype": "text/x-python",
   "name": "python",
   "nbconvert_exporter": "python",
   "pygments_lexer": "ipython3",
   "version": "3.10.10"
  },
  "vscode": {
   "interpreter": {
    "hash": "d7ebce313f85fb1ac8949e834c83f371584cb2422d845bf1570c1220fdedc716"
   }
  }
 },
 "nbformat": 4,
 "nbformat_minor": 5
}
