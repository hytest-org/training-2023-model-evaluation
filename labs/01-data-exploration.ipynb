{
 "cells": [
  {
   "cell_type": "code",
   "execution_count": null,
   "id": "39740f25-f372-4e10-8e6d-816da89c5888",
   "metadata": {
    "jp-MarkdownHeadingCollapsed": true,
    "tags": []
   },
   "outputs": [],
   "source": [
    "# load data with intake"
   ]
  },
  {
   "cell_type": "code",
   "execution_count": null,
   "id": "2d444448-ae63-4750-9ada-4a79fd01da70",
   "metadata": {},
   "outputs": [],
   "source": [
    "# print dask dataframe"
   ]
  },
  {
   "cell_type": "code",
   "execution_count": null,
   "id": "f3610d2d-05b3-479c-b3b3-83b3f3422f92",
   "metadata": {},
   "outputs": [],
   "source": [
    "# load a slice"
   ]
  },
  {
   "cell_type": "code",
   "execution_count": null,
   "id": "fa096b8b-1044-4a45-bd67-c076432fb088",
   "metadata": {},
   "outputs": [],
   "source": [
    "# gage map with tooltip"
   ]
  },
  {
   "cell_type": "markdown",
   "id": "9f1bb9d6-3945-408e-bc7d-99d290eb225e",
   "metadata": {},
   "source": [
    "# demonstrate basic hvplot and dask functionality. See intro demos for either library and then cook up examples using our data that:\n",
    "# - demonstrate time and spatial slicing\n",
    "# - use dask to compute a mean\n",
    "# - use groupby to compute a mean for each gage\n",
    "# - plot a hydrograph"
   ]
  },
  {
   "cell_type": "code",
   "execution_count": null,
   "id": "93401ea7-e415-4ff0-9c3b-edda956901cd",
   "metadata": {},
   "outputs": [],
   "source": [
    "# possible exercises\n",
    "# - download gages II attributes and use to compute statistics for different regions\n",
    "# - compute statistics for different seasons (see dscore example)\n"
   ]
  }
 ],
 "metadata": {
  "kernelspec": {
   "display_name": "Python 3",
   "language": "python",
   "name": "python3"
  },
  "language_info": {
   "name": "python",
   "version": "3.10.6"
  },
  "vscode": {
   "interpreter": {
    "hash": "767d51c1340bd893661ea55ea3124f6de3c7a262a8b4abca0554b478b1e2ff90"
   }
  }
 },
 "nbformat": 4,
 "nbformat_minor": 5
}
