{
 "cells": [
  {
   "cell_type": "markdown",
   "id": "5fb5361b-d144-42c4-869f-cefdce92004c",
   "metadata": {},
   "source": [
    "# HyTEST Model Evaluation Training (2023)"
   ]
  },
  {
   "cell_type": "markdown",
   "id": "9bb62fc6-ca4b-4056-ac58-52b088d35c9b",
   "metadata": {},
   "source": [
    "## Training Overview\n",
    "This HyTEST model evaluation course teaches students the foundations of scientific model evaluation, as well as how to apply those foundations to evaluate big datasets in the cloud using [Pangeo](https://pangeo.io/about.html), an open-source Python platform for distributed computing.\n",
    "\n",
    "Using a combination of lectures and hands-on exercises in Jupyter Notebooks, we will cover data access and preparation, identifying and computing statistical evaluation metrics, and visualization of results. Furthermore, we consider how workflows can be modified for individual purposes and/or other use-cases. "
   ]
  },
  {
   "cell_type": "markdown",
   "id": "1e30a925-8695-4f66-ace2-a1ac390e9aaa",
   "metadata": {},
   "source": [
    "## Learning Outcomes\n",
    "On the technical side,\n",
    "students will become familar with fundamental components of the Pangeo architecture, including S3, `Dask`, `intake`, `xarray`, and `hvplot`.\n",
    "On the theory side,\n",
    "students will learn about theory of model evaluation, how to compute and interpret different metrics for benchmarking model performance.\n",
    "By the end, the student should be able to take the output of a geoscientific model, choose a meaningful suite of performance metrics, then use Pangeo to compute them and visualize the result."
   ]
  },
  {
   "cell_type": "markdown",
   "id": "20b45802-4235-4fb7-9d12-b49f760dd913",
   "metadata": {},
   "source": [
    "## Date/Time\n",
    "May 10th and May 11th of 2023, 10am to 2pm MT"
   ]
  },
  {
   "cell_type": "markdown",
   "id": "7755d37a-ede0-4657-8b80-d934611659e9",
   "metadata": {},
   "source": [
    "## Lesson plan"
   ]
  },
  {
   "cell_type": "markdown",
   "id": "8ffa67ab-20f4-4c34-8531-5ddd6694abd5",
   "metadata": {},
   "source": [
    "### Day 1\n",
    "- Welcome/Icebreaker - 20 minutes\n",
    "- Lesson 0: HyTEST, Pangeo Concepts, Tools - 20 minutes\n",
    "- Lesson 1: Training Setup - 20 minutes\n",
    "- Break - 15 minutes\n",
    "- Lab 1: Data exploration  - 30 minutes\n",
    "- Break - 10 minutes\n",
    "- Lab 2:  Hvplot demonstration - 35 minutes\n",
    "- Q & A: Day 1 - 20 minutes"
   ]
  },
  {
   "cell_type": "markdown",
   "id": "45e4b08a-3a41-40b9-8a01-53016b18ab22",
   "metadata": {},
   "source": [
    "### Day 2\n",
    "- Lesson 3: Standard benchmarks (theory) - 30 minutes\n",
    "- Lab 3: Standard benchmarks (application) - 30 minutes\n",
    "- Break - 10 minutes\n",
    "- Lesson 4: Selecting your objective - 30 minutes\n",
    "- Break - 30 minutes\n",
    "- Lab 4: Selecting your objective - 30 minutes\n",
    "- Lesson 5: d-score benchmark (theory) - 30 minutes\n",
    "- Break - 10 minutes\n",
    "- Lab 5:  d-score benchmark (application) - 20 minutes\n",
    "- Wrap-up and Q&A - 20 minutes"
   ]
  },
  {
   "cell_type": "markdown",
   "id": "a7a073c5-916d-4fae-b37c-9ba1cac250dc",
   "metadata": {},
   "source": [
    "## Presenters\n",
    "Tim Hodson (USGS), Erin Towler (NCAR), Gene Trantham (USGS), & Sydney Foks (USGS)"
   ]
  },
  {
   "cell_type": "markdown",
   "id": "8654c1bb-ec15-494b-bb75-0a4d04ff3b0b",
   "metadata": {},
   "source": [
    "## Course Preparation\n",
    "Prior knowledge of Jupyter Notebooks and Python will be beneficial to participants, but not required. Please review some of the links provided below to gain better background knowledge on the [Pangeo](https://pangeo.io/) package suite and concepts.\n",
    "\n",
    "- Pangeo Concepts: [Pangeo Start Guide](https://pangeo.io/quickstart.html#quickstart)\n",
    "- Parallelization: [Dask](https://tutorial.dask.org/00_overview.html)\n",
    "- Data organization: [Intake](http://gallery.pangeo.io/repos/pangeo-data/pangeo-tutorial-gallery/intake.html)\n",
    "- Multidimensional Arrays: [Xarray](https://tutorial.xarray.dev/intro.html)\n",
    "- Data Visualization: [Panel](https://panel.holoviz.org/) & [Holoviz](https://holoviz.org/tutorial/)\n",
    "- Panel [example](https://glaciers.pyviz.demo.anaconda.com/glaciers)\n",
    "- [Intro to GitHub](https://www.youtube.com/watch?v=idZyqNIrt84) (youtube)\n",
    "- [Adding Pull Requests in GitHub](https://www.youtube.com/watch?v=NZG5Y51WRHo) (youtube)"
   ]
  },
  {
   "cell_type": "markdown",
   "id": "13ae1e53-1971-4b9a-b330-cb7869a20e9c",
   "metadata": {},
   "source": [
    "## Help Links\n",
    "* [HyTEST repository](https://github.com/hytest-org/hytest), additional demos\n",
    "* [Pangeo Discourse](https://discourse.pangeo.io/)\n",
    "* [Project Pythia](https://cookbooks.projectpythia.org/), workflows recipes and examples\n",
    "* MSTeam (internal to network): [GS-Pangeo](https://teams.microsoft.com/l/team/19%3aa8f4ad49b05c40eab74197daf76be568%40thread.skype/conversations?groupId=f01d9363-7341-40ac-bc06-04b3ab9de54f&tenantId=0693b5ba-4b18-4d7b-9341-f32f400a5494)\n",
    "* MSTeam (internal to network): [GS-HPCUsers](https://teams.microsoft.com/l/team/19%3a20d5d33656ba4d4bb574f6f0194e2f7f%40thread.skype/conversations?groupId=0d997551-abe8-4b31-aa0a-06bb8ad40463&tenantId=0693b5ba-4b18-4d7b-9341-f32f400a5494)\n",
    "* Page (internal to network): [ARC HPC Training](https://teams.microsoft.com/l/team/19%3a20d5d33656ba4d4bb574f6f0194e2f7f%40thread.skype/conversations?groupId=0d997551-abe8-4b31-aa0a-06bb8ad40463&tenantId=0693b5ba-4b18-4d7b-9341-f32f400a5494)\n",
    "* MSTeam (internal to network): [GS-CHS-UserTraining](https://teams.microsoft.com/l/team/19%3a5855c04511584c26b42ba426cc0a7890%40thread.skype/conversations?groupId=8f59b7f0-3b27-459c-a145-4da10ee16b20&tenantId=0693b5ba-4b18-4d7b-9341-f32f400a5494)\n",
    "* Sharepoint (internal to network): [HyTEST Project](https://doimspp.sharepoint.com/sites/gs-wma-hytest/)\n",
    "* Sharepoint (internal to network): [HyTEST Evaluation Task](https://doimspp.sharepoint.com/sites/gs-wma-hytest/SitePages/EvalutionTaskTeam.aspx)"
   ]
  },
  {
   "cell_type": "markdown",
   "id": "b04d0ba0-6148-4df8-86a7-badd966b902c",
   "metadata": {},
   "source": [
    "## Contact\n",
    "Please feel free to reach out to Sydney Foks (sfoks at usgs.gov) with any questions."
   ]
  }
 ],
 "metadata": {
  "kernelspec": {
   "display_name": "users-users-pangeo",
   "language": "python",
   "name": "conda-env-users-users-pangeo-py"
  },
  "language_info": {
   "codemirror_mode": {
    "name": "ipython",
    "version": 3
   },
   "file_extension": ".py",
   "mimetype": "text/x-python",
   "name": "python",
   "nbconvert_exporter": "python",
   "pygments_lexer": "ipython3",
   "version": "3.10.10"
  }
 },
 "nbformat": 4,
 "nbformat_minor": 5
}
